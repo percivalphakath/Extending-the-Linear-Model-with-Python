{
 "cells": [
  {
   "attachments": {},
   "cell_type": "markdown",
   "metadata": {},
   "source": [
    "<h1> Page 1 </h1>"
   ]
  },
  {
   "cell_type": "code",
   "execution_count": 1,
   "metadata": {},
   "outputs": [],
   "source": [
    "#install the following package to read the R Data File\n",
    "#make sure you use Python 3.8.16 to import this library\n",
    "#use this package to read the .rda dataset\n",
    "import pyreadr"
   ]
  },
  {
   "cell_type": "code",
   "execution_count": 2,
   "metadata": {},
   "outputs": [],
   "source": [
    "#download the gavote dataset from julianfarway's repository\n",
    "gavoteURL = 'https://github.com/julianfaraway/faraway/blob/main/data/gavote.rda'"
   ]
  },
  {
   "cell_type": "code",
   "execution_count": 3,
   "metadata": {},
   "outputs": [],
   "source": [
    "#reading a gavote data set\n",
    "gavote = pyreadr.read_r('gavote.rda')['gavote'] "
   ]
  },
  {
   "attachments": {},
   "cell_type": "markdown",
   "metadata": {},
   "source": [
    "<h1> Page 2 <h1>"
   ]
  },
  {
   "cell_type": "code",
   "execution_count": 4,
   "metadata": {},
   "outputs": [
    {
     "data": {
      "text/html": [
       "<div>\n",
       "<style scoped>\n",
       "    .dataframe tbody tr th:only-of-type {\n",
       "        vertical-align: middle;\n",
       "    }\n",
       "\n",
       "    .dataframe tbody tr th {\n",
       "        vertical-align: top;\n",
       "    }\n",
       "\n",
       "    .dataframe thead th {\n",
       "        text-align: right;\n",
       "    }\n",
       "</style>\n",
       "<table border=\"1\" class=\"dataframe\">\n",
       "  <thead>\n",
       "    <tr style=\"text-align: right;\">\n",
       "      <th></th>\n",
       "      <th>equip</th>\n",
       "      <th>econ</th>\n",
       "      <th>perAA</th>\n",
       "      <th>rural</th>\n",
       "      <th>atlanta</th>\n",
       "      <th>gore</th>\n",
       "      <th>bush</th>\n",
       "      <th>other</th>\n",
       "      <th>votes</th>\n",
       "      <th>ballots</th>\n",
       "    </tr>\n",
       "    <tr>\n",
       "      <th>rownames</th>\n",
       "      <th></th>\n",
       "      <th></th>\n",
       "      <th></th>\n",
       "      <th></th>\n",
       "      <th></th>\n",
       "      <th></th>\n",
       "      <th></th>\n",
       "      <th></th>\n",
       "      <th></th>\n",
       "      <th></th>\n",
       "    </tr>\n",
       "  </thead>\n",
       "  <tbody>\n",
       "    <tr>\n",
       "      <th>APPLING</th>\n",
       "      <td>LEVER</td>\n",
       "      <td>poor</td>\n",
       "      <td>0.182</td>\n",
       "      <td>rural</td>\n",
       "      <td>notAtlanta</td>\n",
       "      <td>2093</td>\n",
       "      <td>3940</td>\n",
       "      <td>66</td>\n",
       "      <td>6099</td>\n",
       "      <td>6617</td>\n",
       "    </tr>\n",
       "    <tr>\n",
       "      <th>ATKINSON</th>\n",
       "      <td>LEVER</td>\n",
       "      <td>poor</td>\n",
       "      <td>0.230</td>\n",
       "      <td>rural</td>\n",
       "      <td>notAtlanta</td>\n",
       "      <td>821</td>\n",
       "      <td>1228</td>\n",
       "      <td>22</td>\n",
       "      <td>2071</td>\n",
       "      <td>2149</td>\n",
       "    </tr>\n",
       "    <tr>\n",
       "      <th>BACON</th>\n",
       "      <td>LEVER</td>\n",
       "      <td>poor</td>\n",
       "      <td>0.131</td>\n",
       "      <td>rural</td>\n",
       "      <td>notAtlanta</td>\n",
       "      <td>956</td>\n",
       "      <td>2010</td>\n",
       "      <td>29</td>\n",
       "      <td>2995</td>\n",
       "      <td>3347</td>\n",
       "    </tr>\n",
       "    <tr>\n",
       "      <th>BAKER</th>\n",
       "      <td>OS-CC</td>\n",
       "      <td>poor</td>\n",
       "      <td>0.476</td>\n",
       "      <td>rural</td>\n",
       "      <td>notAtlanta</td>\n",
       "      <td>893</td>\n",
       "      <td>615</td>\n",
       "      <td>11</td>\n",
       "      <td>1519</td>\n",
       "      <td>1607</td>\n",
       "    </tr>\n",
       "    <tr>\n",
       "      <th>BALDWIN</th>\n",
       "      <td>LEVER</td>\n",
       "      <td>middle</td>\n",
       "      <td>0.359</td>\n",
       "      <td>rural</td>\n",
       "      <td>notAtlanta</td>\n",
       "      <td>5893</td>\n",
       "      <td>6041</td>\n",
       "      <td>192</td>\n",
       "      <td>12126</td>\n",
       "      <td>12785</td>\n",
       "    </tr>\n",
       "  </tbody>\n",
       "</table>\n",
       "</div>"
      ],
      "text/plain": [
       "          equip    econ  perAA  rural     atlanta  gore  bush  other  votes  \\\n",
       "rownames                                                                      \n",
       "APPLING   LEVER    poor  0.182  rural  notAtlanta  2093  3940     66   6099   \n",
       "ATKINSON  LEVER    poor  0.230  rural  notAtlanta   821  1228     22   2071   \n",
       "BACON     LEVER    poor  0.131  rural  notAtlanta   956  2010     29   2995   \n",
       "BAKER     OS-CC    poor  0.476  rural  notAtlanta   893   615     11   1519   \n",
       "BALDWIN   LEVER  middle  0.359  rural  notAtlanta  5893  6041    192  12126   \n",
       "\n",
       "          ballots  \n",
       "rownames           \n",
       "APPLING      6617  \n",
       "ATKINSON     2149  \n",
       "BACON        3347  \n",
       "BAKER        1607  \n",
       "BALDWIN     12785  "
      ]
     },
     "execution_count": 4,
     "metadata": {},
     "output_type": "execute_result"
    }
   ],
   "source": [
    "#display the first 5 entries of the gavote data\n",
    "gavote.head()"
   ]
  },
  {
   "attachments": {},
   "cell_type": "markdown",
   "metadata": {},
   "source": [
    "<h1> Page 3 </h1>"
   ]
  },
  {
   "cell_type": "code",
   "execution_count": 5,
   "metadata": {},
   "outputs": [
    {
     "data": {
      "text/html": [
       "<div>\n",
       "<style scoped>\n",
       "    .dataframe tbody tr th:only-of-type {\n",
       "        vertical-align: middle;\n",
       "    }\n",
       "\n",
       "    .dataframe tbody tr th {\n",
       "        vertical-align: top;\n",
       "    }\n",
       "\n",
       "    .dataframe thead th {\n",
       "        text-align: right;\n",
       "    }\n",
       "</style>\n",
       "<table border=\"1\" class=\"dataframe\">\n",
       "  <thead>\n",
       "    <tr style=\"text-align: right;\">\n",
       "      <th></th>\n",
       "      <th>equip</th>\n",
       "      <th>econ</th>\n",
       "      <th>perAA</th>\n",
       "      <th>rural</th>\n",
       "      <th>atlanta</th>\n",
       "      <th>gore</th>\n",
       "      <th>bush</th>\n",
       "      <th>other</th>\n",
       "      <th>votes</th>\n",
       "      <th>ballots</th>\n",
       "    </tr>\n",
       "  </thead>\n",
       "  <tbody>\n",
       "    <tr>\n",
       "      <th>count</th>\n",
       "      <td>159</td>\n",
       "      <td>159</td>\n",
       "      <td>159.000000</td>\n",
       "      <td>159</td>\n",
       "      <td>159</td>\n",
       "      <td>159.000000</td>\n",
       "      <td>159.000000</td>\n",
       "      <td>159.000000</td>\n",
       "      <td>159.000000</td>\n",
       "      <td>159.000000</td>\n",
       "    </tr>\n",
       "    <tr>\n",
       "      <th>unique</th>\n",
       "      <td>5</td>\n",
       "      <td>3</td>\n",
       "      <td>NaN</td>\n",
       "      <td>2</td>\n",
       "      <td>2</td>\n",
       "      <td>NaN</td>\n",
       "      <td>NaN</td>\n",
       "      <td>NaN</td>\n",
       "      <td>NaN</td>\n",
       "      <td>NaN</td>\n",
       "    </tr>\n",
       "    <tr>\n",
       "      <th>top</th>\n",
       "      <td>LEVER</td>\n",
       "      <td>poor</td>\n",
       "      <td>NaN</td>\n",
       "      <td>rural</td>\n",
       "      <td>notAtlanta</td>\n",
       "      <td>NaN</td>\n",
       "      <td>NaN</td>\n",
       "      <td>NaN</td>\n",
       "      <td>NaN</td>\n",
       "      <td>NaN</td>\n",
       "    </tr>\n",
       "    <tr>\n",
       "      <th>freq</th>\n",
       "      <td>74</td>\n",
       "      <td>72</td>\n",
       "      <td>NaN</td>\n",
       "      <td>117</td>\n",
       "      <td>144</td>\n",
       "      <td>NaN</td>\n",
       "      <td>NaN</td>\n",
       "      <td>NaN</td>\n",
       "      <td>NaN</td>\n",
       "      <td>NaN</td>\n",
       "    </tr>\n",
       "    <tr>\n",
       "      <th>mean</th>\n",
       "      <td>NaN</td>\n",
       "      <td>NaN</td>\n",
       "      <td>0.242981</td>\n",
       "      <td>NaN</td>\n",
       "      <td>NaN</td>\n",
       "      <td>7020.314465</td>\n",
       "      <td>8929.056604</td>\n",
       "      <td>381.654088</td>\n",
       "      <td>16331.025157</td>\n",
       "      <td>16926.503145</td>\n",
       "    </tr>\n",
       "    <tr>\n",
       "      <th>std</th>\n",
       "      <td>NaN</td>\n",
       "      <td>NaN</td>\n",
       "      <td>0.163082</td>\n",
       "      <td>NaN</td>\n",
       "      <td>NaN</td>\n",
       "      <td>19317.779818</td>\n",
       "      <td>18029.959822</td>\n",
       "      <td>1150.974980</td>\n",
       "      <td>36623.274439</td>\n",
       "      <td>37865.152282</td>\n",
       "    </tr>\n",
       "    <tr>\n",
       "      <th>min</th>\n",
       "      <td>NaN</td>\n",
       "      <td>NaN</td>\n",
       "      <td>0.000000</td>\n",
       "      <td>NaN</td>\n",
       "      <td>NaN</td>\n",
       "      <td>249.000000</td>\n",
       "      <td>271.000000</td>\n",
       "      <td>5.000000</td>\n",
       "      <td>832.000000</td>\n",
       "      <td>881.000000</td>\n",
       "    </tr>\n",
       "    <tr>\n",
       "      <th>25%</th>\n",
       "      <td>NaN</td>\n",
       "      <td>NaN</td>\n",
       "      <td>0.111500</td>\n",
       "      <td>NaN</td>\n",
       "      <td>NaN</td>\n",
       "      <td>1385.500000</td>\n",
       "      <td>1803.500000</td>\n",
       "      <td>30.000000</td>\n",
       "      <td>3506.500000</td>\n",
       "      <td>3693.500000</td>\n",
       "    </tr>\n",
       "    <tr>\n",
       "      <th>50%</th>\n",
       "      <td>NaN</td>\n",
       "      <td>NaN</td>\n",
       "      <td>0.233000</td>\n",
       "      <td>NaN</td>\n",
       "      <td>NaN</td>\n",
       "      <td>2326.000000</td>\n",
       "      <td>3597.000000</td>\n",
       "      <td>86.000000</td>\n",
       "      <td>6299.000000</td>\n",
       "      <td>6712.000000</td>\n",
       "    </tr>\n",
       "    <tr>\n",
       "      <th>75%</th>\n",
       "      <td>NaN</td>\n",
       "      <td>NaN</td>\n",
       "      <td>0.348000</td>\n",
       "      <td>NaN</td>\n",
       "      <td>NaN</td>\n",
       "      <td>4430.000000</td>\n",
       "      <td>7468.500000</td>\n",
       "      <td>210.000000</td>\n",
       "      <td>11846.500000</td>\n",
       "      <td>12251.000000</td>\n",
       "    </tr>\n",
       "    <tr>\n",
       "      <th>max</th>\n",
       "      <td>NaN</td>\n",
       "      <td>NaN</td>\n",
       "      <td>0.765000</td>\n",
       "      <td>NaN</td>\n",
       "      <td>NaN</td>\n",
       "      <td>154509.000000</td>\n",
       "      <td>140494.000000</td>\n",
       "      <td>7920.000000</td>\n",
       "      <td>263211.000000</td>\n",
       "      <td>280975.000000</td>\n",
       "    </tr>\n",
       "  </tbody>\n",
       "</table>\n",
       "</div>"
      ],
      "text/plain": [
       "        equip  econ       perAA  rural     atlanta           gore  \\\n",
       "count     159   159  159.000000    159         159     159.000000   \n",
       "unique      5     3         NaN      2           2            NaN   \n",
       "top     LEVER  poor         NaN  rural  notAtlanta            NaN   \n",
       "freq       74    72         NaN    117         144            NaN   \n",
       "mean      NaN   NaN    0.242981    NaN         NaN    7020.314465   \n",
       "std       NaN   NaN    0.163082    NaN         NaN   19317.779818   \n",
       "min       NaN   NaN    0.000000    NaN         NaN     249.000000   \n",
       "25%       NaN   NaN    0.111500    NaN         NaN    1385.500000   \n",
       "50%       NaN   NaN    0.233000    NaN         NaN    2326.000000   \n",
       "75%       NaN   NaN    0.348000    NaN         NaN    4430.000000   \n",
       "max       NaN   NaN    0.765000    NaN         NaN  154509.000000   \n",
       "\n",
       "                 bush        other          votes        ballots  \n",
       "count      159.000000   159.000000     159.000000     159.000000  \n",
       "unique            NaN          NaN            NaN            NaN  \n",
       "top               NaN          NaN            NaN            NaN  \n",
       "freq              NaN          NaN            NaN            NaN  \n",
       "mean      8929.056604   381.654088   16331.025157   16926.503145  \n",
       "std      18029.959822  1150.974980   36623.274439   37865.152282  \n",
       "min        271.000000     5.000000     832.000000     881.000000  \n",
       "25%       1803.500000    30.000000    3506.500000    3693.500000  \n",
       "50%       3597.000000    86.000000    6299.000000    6712.000000  \n",
       "75%       7468.500000   210.000000   11846.500000   12251.000000  \n",
       "max     140494.000000  7920.000000  263211.000000  280975.000000  "
      ]
     },
     "execution_count": 5,
     "metadata": {},
     "output_type": "execute_result"
    }
   ],
   "source": [
    "#display a summary statistics\n",
    "gavote.describe(include = 'all') "
   ]
  },
  {
   "cell_type": "code",
   "execution_count": 6,
   "metadata": {},
   "outputs": [],
   "source": [
    "#add a relative undercount column\n",
    "gavote['undercount'] = (gavote['ballots']-gavote['votes'])/gavote['ballots']"
   ]
  },
  {
   "cell_type": "code",
   "execution_count": 7,
   "metadata": {},
   "outputs": [
    {
     "data": {
      "text/plain": [
       "count    159.000000\n",
       "mean       0.043792\n",
       "std        0.024965\n",
       "min        0.000000\n",
       "25%        0.027791\n",
       "50%        0.039833\n",
       "75%        0.056470\n",
       "max        0.188121\n",
       "Name: undercount, dtype: float64"
      ]
     },
     "execution_count": 7,
     "metadata": {},
     "output_type": "execute_result"
    }
   ],
   "source": [
    "#display a summary statistics\n",
    "gavote['undercount'].describe()"
   ]
  },
  {
   "cell_type": "code",
   "execution_count": 8,
   "metadata": {},
   "outputs": [],
   "source": [
    "#use this package for mathematical operations\n",
    "import numpy as np"
   ]
  },
  {
   "cell_type": "code",
   "execution_count": 9,
   "metadata": {},
   "outputs": [
    {
     "name": "stdout",
     "output_type": "stream",
     "text": [
      "0.03518021308550396\n"
     ]
    }
   ],
   "source": [
    "#calculate the overall relative undercount\n",
    "print(np.sum(gavote['ballots']-gavote['votes'])/np.sum(gavote['ballots']))"
   ]
  },
  {
   "cell_type": "code",
   "execution_count": 10,
   "metadata": {},
   "outputs": [],
   "source": [
    "#Use these packages to plot figures\n",
    "import seaborn as sns \n",
    "import matplotlib.pyplot as plt"
   ]
  },
  {
   "cell_type": "code",
   "execution_count": 11,
   "metadata": {},
   "outputs": [
    {
     "data": {
      "image/png": "[encoded data removed]",
      "text/plain": [
       "<Figure size 640x480 with 1 Axes>"
      ]
     },
     "metadata": {},
     "output_type": "display_data"
    }
   ],
   "source": [
    "#plot a histogram\n",
    "sns.histplot(data = gavote, \n",
    "                x = 'undercount', \n",
    "                bins = 10)\n",
    "\n",
    "plt.title('Undercount')\n",
    "plt.xlabel('Percent Undercount')\n",
    "plt.ylabel('Frequency');"
   ]
  },
  {
   "cell_type": "code",
   "execution_count": 12,
   "metadata": {},
   "outputs": [],
   "source": [
    "#assume `my_object` is a list or other non-NumPy object\n",
    "my_array = np.array(gavote.index)"
   ]
  },
  {
   "cell_type": "code",
   "execution_count": 13,
   "metadata": {},
   "outputs": [],
   "source": [
    "gavote.index = my_array"
   ]
  },
  {
   "cell_type": "code",
   "execution_count": 14,
   "metadata": {},
   "outputs": [
    {
     "data": {
      "text/html": [
       "<div>\n",
       "<style scoped>\n",
       "    .dataframe tbody tr th:only-of-type {\n",
       "        vertical-align: middle;\n",
       "    }\n",
       "\n",
       "    .dataframe tbody tr th {\n",
       "        vertical-align: top;\n",
       "    }\n",
       "\n",
       "    .dataframe thead th {\n",
       "        text-align: right;\n",
       "    }\n",
       "</style>\n",
       "<table border=\"1\" class=\"dataframe\">\n",
       "  <thead>\n",
       "    <tr style=\"text-align: right;\">\n",
       "      <th></th>\n",
       "      <th>equip</th>\n",
       "      <th>econ</th>\n",
       "      <th>perAA</th>\n",
       "      <th>rural</th>\n",
       "      <th>atlanta</th>\n",
       "      <th>gore</th>\n",
       "      <th>bush</th>\n",
       "      <th>other</th>\n",
       "      <th>votes</th>\n",
       "      <th>ballots</th>\n",
       "      <th>undercount</th>\n",
       "    </tr>\n",
       "  </thead>\n",
       "  <tbody>\n",
       "    <tr>\n",
       "      <th>APPLING</th>\n",
       "      <td>LEVER</td>\n",
       "      <td>poor</td>\n",
       "      <td>0.182</td>\n",
       "      <td>rural</td>\n",
       "      <td>notAtlanta</td>\n",
       "      <td>2093</td>\n",
       "      <td>3940</td>\n",
       "      <td>66</td>\n",
       "      <td>6099</td>\n",
       "      <td>6617</td>\n",
       "      <td>0.078283</td>\n",
       "    </tr>\n",
       "    <tr>\n",
       "      <th>ATKINSON</th>\n",
       "      <td>LEVER</td>\n",
       "      <td>poor</td>\n",
       "      <td>0.230</td>\n",
       "      <td>rural</td>\n",
       "      <td>notAtlanta</td>\n",
       "      <td>821</td>\n",
       "      <td>1228</td>\n",
       "      <td>22</td>\n",
       "      <td>2071</td>\n",
       "      <td>2149</td>\n",
       "      <td>0.036296</td>\n",
       "    </tr>\n",
       "    <tr>\n",
       "      <th>BACON</th>\n",
       "      <td>LEVER</td>\n",
       "      <td>poor</td>\n",
       "      <td>0.131</td>\n",
       "      <td>rural</td>\n",
       "      <td>notAtlanta</td>\n",
       "      <td>956</td>\n",
       "      <td>2010</td>\n",
       "      <td>29</td>\n",
       "      <td>2995</td>\n",
       "      <td>3347</td>\n",
       "      <td>0.105169</td>\n",
       "    </tr>\n",
       "    <tr>\n",
       "      <th>BAKER</th>\n",
       "      <td>OS-CC</td>\n",
       "      <td>poor</td>\n",
       "      <td>0.476</td>\n",
       "      <td>rural</td>\n",
       "      <td>notAtlanta</td>\n",
       "      <td>893</td>\n",
       "      <td>615</td>\n",
       "      <td>11</td>\n",
       "      <td>1519</td>\n",
       "      <td>1607</td>\n",
       "      <td>0.054760</td>\n",
       "    </tr>\n",
       "    <tr>\n",
       "      <th>BALDWIN</th>\n",
       "      <td>LEVER</td>\n",
       "      <td>middle</td>\n",
       "      <td>0.359</td>\n",
       "      <td>rural</td>\n",
       "      <td>notAtlanta</td>\n",
       "      <td>5893</td>\n",
       "      <td>6041</td>\n",
       "      <td>192</td>\n",
       "      <td>12126</td>\n",
       "      <td>12785</td>\n",
       "      <td>0.051545</td>\n",
       "    </tr>\n",
       "    <tr>\n",
       "      <th>...</th>\n",
       "      <td>...</td>\n",
       "      <td>...</td>\n",
       "      <td>...</td>\n",
       "      <td>...</td>\n",
       "      <td>...</td>\n",
       "      <td>...</td>\n",
       "      <td>...</td>\n",
       "      <td>...</td>\n",
       "      <td>...</td>\n",
       "      <td>...</td>\n",
       "      <td>...</td>\n",
       "    </tr>\n",
       "    <tr>\n",
       "      <th>WHITFIELD</th>\n",
       "      <td>OS-PC</td>\n",
       "      <td>rich</td>\n",
       "      <td>0.040</td>\n",
       "      <td>rural</td>\n",
       "      <td>notAtlanta</td>\n",
       "      <td>7034</td>\n",
       "      <td>15852</td>\n",
       "      <td>416</td>\n",
       "      <td>23302</td>\n",
       "      <td>23854</td>\n",
       "      <td>0.023141</td>\n",
       "    </tr>\n",
       "    <tr>\n",
       "      <th>WILCOX</th>\n",
       "      <td>LEVER</td>\n",
       "      <td>poor</td>\n",
       "      <td>0.265</td>\n",
       "      <td>rural</td>\n",
       "      <td>notAtlanta</td>\n",
       "      <td>962</td>\n",
       "      <td>1381</td>\n",
       "      <td>22</td>\n",
       "      <td>2365</td>\n",
       "      <td>2430</td>\n",
       "      <td>0.026749</td>\n",
       "    </tr>\n",
       "    <tr>\n",
       "      <th>WILKES</th>\n",
       "      <td>LEVER</td>\n",
       "      <td>middle</td>\n",
       "      <td>0.386</td>\n",
       "      <td>rural</td>\n",
       "      <td>notAtlanta</td>\n",
       "      <td>1940</td>\n",
       "      <td>2044</td>\n",
       "      <td>42</td>\n",
       "      <td>4026</td>\n",
       "      <td>4136</td>\n",
       "      <td>0.026596</td>\n",
       "    </tr>\n",
       "    <tr>\n",
       "      <th>WILKINSON</th>\n",
       "      <td>LEVER</td>\n",
       "      <td>poor</td>\n",
       "      <td>0.408</td>\n",
       "      <td>rural</td>\n",
       "      <td>notAtlanta</td>\n",
       "      <td>1884</td>\n",
       "      <td>1800</td>\n",
       "      <td>56</td>\n",
       "      <td>3740</td>\n",
       "      <td>3792</td>\n",
       "      <td>0.013713</td>\n",
       "    </tr>\n",
       "    <tr>\n",
       "      <th>WORTH</th>\n",
       "      <td>PUNCH</td>\n",
       "      <td>poor</td>\n",
       "      <td>0.266</td>\n",
       "      <td>rural</td>\n",
       "      <td>notAtlanta</td>\n",
       "      <td>2214</td>\n",
       "      <td>3792</td>\n",
       "      <td>55</td>\n",
       "      <td>6061</td>\n",
       "      <td>6458</td>\n",
       "      <td>0.061474</td>\n",
       "    </tr>\n",
       "  </tbody>\n",
       "</table>\n",
       "<p>159 rows × 11 columns</p>\n",
       "</div>"
      ],
      "text/plain": [
       "           equip    econ  perAA  rural     atlanta  gore   bush  other  votes  \\\n",
       "APPLING    LEVER    poor  0.182  rural  notAtlanta  2093   3940     66   6099   \n",
       "ATKINSON   LEVER    poor  0.230  rural  notAtlanta   821   1228     22   2071   \n",
       "BACON      LEVER    poor  0.131  rural  notAtlanta   956   2010     29   2995   \n",
       "BAKER      OS-CC    poor  0.476  rural  notAtlanta   893    615     11   1519   \n",
       "BALDWIN    LEVER  middle  0.359  rural  notAtlanta  5893   6041    192  12126   \n",
       "...          ...     ...    ...    ...         ...   ...    ...    ...    ...   \n",
       "WHITFIELD  OS-PC    rich  0.040  rural  notAtlanta  7034  15852    416  23302   \n",
       "WILCOX     LEVER    poor  0.265  rural  notAtlanta   962   1381     22   2365   \n",
       "WILKES     LEVER  middle  0.386  rural  notAtlanta  1940   2044     42   4026   \n",
       "WILKINSON  LEVER    poor  0.408  rural  notAtlanta  1884   1800     56   3740   \n",
       "WORTH      PUNCH    poor  0.266  rural  notAtlanta  2214   3792     55   6061   \n",
       "\n",
       "           ballots  undercount  \n",
       "APPLING       6617    0.078283  \n",
       "ATKINSON      2149    0.036296  \n",
       "BACON         3347    0.105169  \n",
       "BAKER         1607    0.054760  \n",
       "BALDWIN      12785    0.051545  \n",
       "...            ...         ...  \n",
       "WHITFIELD    23854    0.023141  \n",
       "WILCOX        2430    0.026749  \n",
       "WILKES        4136    0.026596  \n",
       "WILKINSON     3792    0.013713  \n",
       "WORTH         6458    0.061474  \n",
       "\n",
       "[159 rows x 11 columns]"
      ]
     },
     "execution_count": 14,
     "metadata": {},
     "output_type": "execute_result"
    }
   ],
   "source": [
    "gavote"
   ]
  },
  {
   "cell_type": "code",
   "execution_count": 15,
   "metadata": {},
   "outputs": [
    {
     "data": {
      "image/png": "[encoded data removed]",
      "text/plain": [
       "<Figure size 500x500 with 1 Axes>"
      ]
     },
     "metadata": {},
     "output_type": "display_data"
    }
   ],
   "source": [
    "#plot a density estimate with a data rug\n",
    "sns.displot(data = gavote,\n",
    "            x = 'undercount',\n",
    "            rug = True, \n",
    "            kind = 'kde')\n",
    "            \n",
    "plt.title('Undercount')\n",
    "plt.xlabel('Percent Undercount');"
   ]
  },
  {
   "attachments": {},
   "cell_type": "markdown",
   "metadata": {},
   "source": [
    "<h1> Page 4 </h1>"
   ]
  },
  {
   "cell_type": "code",
   "execution_count": 16,
   "metadata": {},
   "outputs": [
    {
     "data": {
      "image/png": "[encoded data removed]",
      "text/plain": [
       "<Figure size 640x480 with 1 Axes>"
      ]
     },
     "metadata": {},
     "output_type": "display_data"
    }
   ],
   "source": [
    "#plot a pie chart\n",
    "plt.pie(x = gavote['equip'].value_counts(), \n",
    "        labels=gavote['equip'].unique());"
   ]
  },
  {
   "cell_type": "code",
   "execution_count": 17,
   "metadata": {},
   "outputs": [
    {
     "data": {
      "image/png": "[encoded data removed]",
      "text/plain": [
       "<Figure size 640x480 with 1 Axes>"
      ]
     },
     "metadata": {},
     "output_type": "display_data"
    }
   ],
   "source": [
    "#plot a Pareto chart\n",
    "sns.countplot(data = gavote, \n",
    "                x = 'equip', \n",
    "                order = gavote['equip'].value_counts().index)\n",
    "\n",
    "plt.ylabel('')\n",
    "plt.xlabel('');"
   ]
  },
  {
   "cell_type": "code",
   "execution_count": 18,
   "metadata": {},
   "outputs": [],
   "source": [
    "#add a the proportion voting for Gore column\n",
    "gavote['pergore'] = gavote['gore']/gavote['votes']"
   ]
  },
  {
   "cell_type": "code",
   "execution_count": 19,
   "metadata": {},
   "outputs": [
    {
     "data": {
      "image/png": "[encoded data removed]",
      "text/plain": [
       "<Figure size 640x480 with 1 Axes>"
      ]
     },
     "metadata": {},
     "output_type": "display_data"
    }
   ],
   "source": [
    "#a scatterplot \n",
    "sns.scatterplot(data = gavote, \n",
    "                    x = 'perAA', \n",
    "                    y = 'pergore')\n",
    "                    \n",
    "plt.xlabel('Proportion African American')\n",
    "plt.ylabel('Proportion for Gore');"
   ]
  },
  {
   "cell_type": "code",
   "execution_count": 20,
   "metadata": {},
   "outputs": [],
   "source": [
    "#use this package for data analysis and manipulation\n",
    "import pandas as pd"
   ]
  },
  {
   "cell_type": "code",
   "execution_count": 21,
   "metadata": {},
   "outputs": [
    {
     "data": {
      "text/html": [
       "<div>\n",
       "<style scoped>\n",
       "    .dataframe tbody tr th:only-of-type {\n",
       "        vertical-align: middle;\n",
       "    }\n",
       "\n",
       "    .dataframe tbody tr th {\n",
       "        vertical-align: top;\n",
       "    }\n",
       "\n",
       "    .dataframe thead th {\n",
       "        text-align: right;\n",
       "    }\n",
       "</style>\n",
       "<table border=\"1\" class=\"dataframe\">\n",
       "  <thead>\n",
       "    <tr style=\"text-align: right;\">\n",
       "      <th>rural</th>\n",
       "      <th>rural</th>\n",
       "      <th>urban</th>\n",
       "    </tr>\n",
       "    <tr>\n",
       "      <th>atlanta</th>\n",
       "      <th></th>\n",
       "      <th></th>\n",
       "    </tr>\n",
       "  </thead>\n",
       "  <tbody>\n",
       "    <tr>\n",
       "      <th>Atlanta</th>\n",
       "      <td>1</td>\n",
       "      <td>14</td>\n",
       "    </tr>\n",
       "    <tr>\n",
       "      <th>notAtlanta</th>\n",
       "      <td>116</td>\n",
       "      <td>28</td>\n",
       "    </tr>\n",
       "  </tbody>\n",
       "</table>\n",
       "</div>"
      ],
      "text/plain": [
       "rural       rural  urban\n",
       "atlanta                 \n",
       "Atlanta         1     14\n",
       "notAtlanta    116     28"
      ]
     },
     "execution_count": 21,
     "metadata": {},
     "output_type": "execute_result"
    }
   ],
   "source": [
    "#a cross-table\n",
    "pd.crosstab(gavote['atlanta'],gavote['rural'])"
   ]
  },
  {
   "cell_type": "code",
   "execution_count": 22,
   "metadata": {},
   "outputs": [
    {
     "data": {
      "text/plain": [
       "Index(['equip', 'econ', 'perAA', 'rural', 'atlanta', 'gore', 'bush', 'other',\n",
       "       'votes', 'ballots', 'undercount', 'pergore'],\n",
       "      dtype='object')"
      ]
     },
     "execution_count": 22,
     "metadata": {},
     "output_type": "execute_result"
    }
   ],
   "source": [
    "#display column names\n",
    "gavote.columns"
   ]
  },
  {
   "cell_type": "code",
   "execution_count": 23,
   "metadata": {},
   "outputs": [],
   "source": [
    "#rename a column\n",
    "gavote.rename(columns = {'rural':'usage'}, inplace = True)"
   ]
  },
  {
   "attachments": {},
   "cell_type": "markdown",
   "metadata": {},
   "source": [
    "<h1> Page 6 </h1>"
   ]
  },
  {
   "cell_type": "code",
   "execution_count": 24,
   "metadata": {},
   "outputs": [
    {
     "data": {
      "image/png": "[encoded data removed]",
      "text/plain": [
       "<Figure size 640x480 with 1 Axes>"
      ]
     },
     "metadata": {},
     "output_type": "display_data"
    }
   ],
   "source": [
    "#a boxplot\n",
    "sns.boxplot(data = gavote, \n",
    "            x = 'equip', \n",
    "            y = 'undercount');"
   ]
  },
  {
   "cell_type": "code",
   "execution_count": 25,
   "metadata": {},
   "outputs": [
    {
     "data": {
      "text/html": [
       "<div>\n",
       "<style scoped>\n",
       "    .dataframe tbody tr th:only-of-type {\n",
       "        vertical-align: middle;\n",
       "    }\n",
       "\n",
       "    .dataframe tbody tr th {\n",
       "        vertical-align: top;\n",
       "    }\n",
       "\n",
       "    .dataframe thead th {\n",
       "        text-align: right;\n",
       "    }\n",
       "</style>\n",
       "<table border=\"1\" class=\"dataframe\">\n",
       "  <thead>\n",
       "    <tr style=\"text-align: right;\">\n",
       "      <th></th>\n",
       "      <th>perAA</th>\n",
       "      <th>ballots</th>\n",
       "      <th>undercount</th>\n",
       "      <th>pergore</th>\n",
       "    </tr>\n",
       "  </thead>\n",
       "  <tbody>\n",
       "    <tr>\n",
       "      <th>perAA</th>\n",
       "      <td>1.000000</td>\n",
       "      <td>0.027732</td>\n",
       "      <td>0.229687</td>\n",
       "      <td>0.921652</td>\n",
       "    </tr>\n",
       "    <tr>\n",
       "      <th>ballots</th>\n",
       "      <td>0.027732</td>\n",
       "      <td>1.000000</td>\n",
       "      <td>-0.155172</td>\n",
       "      <td>0.095617</td>\n",
       "    </tr>\n",
       "    <tr>\n",
       "      <th>undercount</th>\n",
       "      <td>0.229687</td>\n",
       "      <td>-0.155172</td>\n",
       "      <td>1.000000</td>\n",
       "      <td>0.218765</td>\n",
       "    </tr>\n",
       "    <tr>\n",
       "      <th>pergore</th>\n",
       "      <td>0.921652</td>\n",
       "      <td>0.095617</td>\n",
       "      <td>0.218765</td>\n",
       "      <td>1.000000</td>\n",
       "    </tr>\n",
       "  </tbody>\n",
       "</table>\n",
       "</div>"
      ],
      "text/plain": [
       "               perAA   ballots  undercount   pergore\n",
       "perAA       1.000000  0.027732    0.229687  0.921652\n",
       "ballots     0.027732  1.000000   -0.155172  0.095617\n",
       "undercount  0.229687 -0.155172    1.000000  0.218765\n",
       "pergore     0.921652  0.095617    0.218765  1.000000"
      ]
     },
     "execution_count": 25,
     "metadata": {},
     "output_type": "execute_result"
    }
   ],
   "source": [
    "#calculate a correlation between columns\n",
    "gavote[['perAA','ballots','undercount','pergore']].corr()"
   ]
  },
  {
   "attachments": {},
   "cell_type": "markdown",
   "metadata": {},
   "source": [
    "<h1> Page 7 </h1>"
   ]
  },
  {
   "cell_type": "code",
   "execution_count": 26,
   "metadata": {},
   "outputs": [],
   "source": [
    "#use this package for fitting a linear model\n",
    "import statsmodels.formula.api as smf"
   ]
  },
  {
   "cell_type": "code",
   "execution_count": 27,
   "metadata": {},
   "outputs": [],
   "source": [
    "#fitting a linear model\n",
    "lmod = smf.ols(data = gavote, \n",
    "                formula = 'undercount~pergore+perAA').fit()"
   ]
  },
  {
   "cell_type": "code",
   "execution_count": 28,
   "metadata": {},
   "outputs": [
    {
     "data": {
      "text/plain": [
       "Intercept    0.032376\n",
       "pergore      0.010979\n",
       "perAA        0.028533\n",
       "dtype: float64"
      ]
     },
     "execution_count": 28,
     "metadata": {},
     "output_type": "execute_result"
    }
   ],
   "source": [
    "#display all the parameters\n",
    "lmod.params"
   ]
  },
  {
   "attachments": {},
   "cell_type": "markdown",
   "metadata": {},
   "source": [
    "<h1> Page 8 </h1>"
   ]
  },
  {
   "cell_type": "code",
   "execution_count": 29,
   "metadata": {},
   "outputs": [
    {
     "data": {
      "text/plain": [
       "array([0.04133661, 0.04329088, 0.03961823, 0.05241202, 0.04795484,\n",
       "       0.03601558, 0.03794768, 0.03824856, 0.0456844 , 0.03951183,\n",
       "       0.0491883 , 0.0408404 , 0.0367021 , 0.04716214, 0.03946337,\n",
       "       0.04272642, 0.05136792, 0.04401044, 0.05485224, 0.04179928,\n",
       "       0.04344251, 0.03976103, 0.03602163, 0.04292433, 0.04750227,\n",
       "       0.04764892, 0.03942706, 0.03555377, 0.04504196, 0.05549852,\n",
       "       0.05405937, 0.04421053, 0.04099018, 0.04394917, 0.04171247,\n",
       "       0.0379354 , 0.04412875, 0.03966886, 0.04419461, 0.04611705,\n",
       "       0.03605864, 0.0351185 , 0.0466983 , 0.05475324, 0.04331231,\n",
       "       0.05151597, 0.05358825, 0.04115587, 0.04775781, 0.03789845,\n",
       "       0.03881787, 0.04444902, 0.04584928, 0.04515983, 0.03598472,\n",
       "       0.03833868, 0.03963718, 0.03451702, 0.03800347, 0.05058744,\n",
       "       0.03569792, 0.03705342, 0.04223991, 0.03694448, 0.04373769,\n",
       "       0.04733356, 0.03915798, 0.03575577, 0.03718296, 0.06279187,\n",
       "       0.03751672, 0.04064671, 0.04107793, 0.03930191, 0.03963794,\n",
       "       0.04200207, 0.04290696, 0.03728655, 0.04390438, 0.04004298,\n",
       "       0.05324856, 0.04825427, 0.04439236, 0.04313121, 0.04425755,\n",
       "       0.04385018, 0.04507076, 0.03892391, 0.05067472, 0.04573235,\n",
       "       0.04339329, 0.04517635, 0.03613962, 0.0558184 , 0.03751186,\n",
       "       0.04692807, 0.04574544, 0.04924682, 0.0491919 , 0.04265158,\n",
       "       0.04981344, 0.04307184, 0.04374217, 0.04313021, 0.03598129,\n",
       "       0.04960889, 0.04200194, 0.03670443, 0.04063029, 0.03733922,\n",
       "       0.04954864, 0.03590777, 0.03847804, 0.0394892 , 0.04017706,\n",
       "       0.04455514, 0.04454688, 0.05088522, 0.03608373, 0.05331472,\n",
       "       0.0513239 , 0.0402319 , 0.04457407, 0.04855631, 0.04511893,\n",
       "       0.04318359, 0.03870448, 0.0565861 , 0.05004936, 0.05616301,\n",
       "       0.05671849, 0.0424378 , 0.04913822, 0.04657823, 0.05354144,\n",
       "       0.04576222, 0.04230964, 0.0425066 , 0.03602581, 0.0456523 ,\n",
       "       0.04327165, 0.04764528, 0.05110591, 0.03589563, 0.04343877,\n",
       "       0.03703049, 0.03889793, 0.04265003, 0.05416216, 0.05126179,\n",
       "       0.04046588, 0.05186413, 0.04486532, 0.03605758, 0.03683139,\n",
       "       0.04440304, 0.04868008, 0.04954797, 0.04397619])"
      ]
     },
     "execution_count": 29,
     "metadata": {},
     "output_type": "execute_result"
    }
   ],
   "source": [
    "#diplay predicted/fitted values\n",
    "lmod.predict()"
   ]
  },
  {
   "cell_type": "code",
   "execution_count": 30,
   "metadata": {},
   "outputs": [
    {
     "data": {
      "text/plain": [
       "APPLING      0.036947\n",
       "ATKINSON    -0.006995\n",
       "BACON        0.065551\n",
       "BAKER        0.002348\n",
       "BALDWIN      0.003590\n",
       "               ...   \n",
       "WHITFIELD   -0.013691\n",
       "WILCOX      -0.017654\n",
       "WILKES      -0.022084\n",
       "WILKINSON   -0.035835\n",
       "WORTH        0.017498\n",
       "Length: 159, dtype: float64"
      ]
     },
     "execution_count": 30,
     "metadata": {},
     "output_type": "execute_result"
    }
   ],
   "source": [
    "#display residuals\n",
    "lmod.resid"
   ]
  },
  {
   "cell_type": "code",
   "execution_count": 31,
   "metadata": {},
   "outputs": [
    {
     "data": {
      "text/plain": [
       "0.09324917740978239"
      ]
     },
     "execution_count": 31,
     "metadata": {},
     "output_type": "execute_result"
    }
   ],
   "source": [
    "#RSS (Residusl Sum of Squares)\n",
    "lmod.ssr"
   ]
  },
  {
   "cell_type": "code",
   "execution_count": 32,
   "metadata": {},
   "outputs": [
    {
     "data": {
      "text/plain": [
       "156"
      ]
     },
     "execution_count": 32,
     "metadata": {},
     "output_type": "execute_result"
    }
   ],
   "source": [
    "#df (degrees of freedom)\n",
    "len(gavote)-len(lmod.params)"
   ]
  },
  {
   "cell_type": "code",
   "execution_count": 33,
   "metadata": {},
   "outputs": [
    {
     "data": {
      "text/plain": [
       "0.024217200785763875"
      ]
     },
     "execution_count": 33,
     "metadata": {},
     "output_type": "execute_result"
    }
   ],
   "source": [
    "#residual standard error\n",
    "np.sqrt(lmod.ssr/len(lmod.resid))"
   ]
  },
  {
   "cell_type": "code",
   "execution_count": 34,
   "metadata": {},
   "outputs": [
    {
     "data": {
      "text/plain": [
       "0.02444894961429212"
      ]
     },
     "execution_count": 34,
     "metadata": {},
     "output_type": "execute_result"
    }
   ],
   "source": [
    "#known as rmse\n",
    "np.sqrt(lmod.mse_resid)"
   ]
  },
  {
   "attachments": {},
   "cell_type": "markdown",
   "metadata": {},
   "source": [
    "<h1> Page 9 </h1>"
   ]
  },
  {
   "cell_type": "code",
   "execution_count": 35,
   "metadata": {},
   "outputs": [
    {
     "data": {
      "text/plain": [
       "0.05308860901036749"
      ]
     },
     "execution_count": 35,
     "metadata": {},
     "output_type": "execute_result"
    }
   ],
   "source": [
    "#R-squared\n",
    "lmod.rsquared"
   ]
  },
  {
   "cell_type": "code",
   "execution_count": 36,
   "metadata": {},
   "outputs": [
    {
     "data": {
      "text/plain": [
       "0.04094871938229527"
      ]
     },
     "execution_count": 36,
     "metadata": {},
     "output_type": "execute_result"
    }
   ],
   "source": [
    "#adjusted R-squared\n",
    "lmod.rsquared_adj"
   ]
  },
  {
   "cell_type": "code",
   "execution_count": 37,
   "metadata": {},
   "outputs": [
    {
     "data": {
      "text/plain": [
       "count    1.590000e+02\n",
       "mean    -9.622806e-18\n",
       "std      2.429372e-02\n",
       "min     -4.601315e-02\n",
       "25%     -1.499534e-02\n",
       "50%     -3.538550e-03\n",
       "75%      1.178373e-02\n",
       "max      1.424361e-01\n",
       "dtype: float64"
      ]
     },
     "execution_count": 37,
     "metadata": {},
     "output_type": "execute_result"
    }
   ],
   "source": [
    "#display residuals summary statistics\n",
    "lmod.resid.describe()"
   ]
  },
  {
   "cell_type": "code",
   "execution_count": 38,
   "metadata": {},
   "outputs": [
    {
     "data": {
      "text/html": [
       "<table class=\"simpletable\">\n",
       "<caption>OLS Regression Results</caption>\n",
       "<tr>\n",
       "  <th>Dep. Variable:</th>       <td>undercount</td>    <th>  R-squared:         </th> <td>   0.053</td>\n",
       "</tr>\n",
       "<tr>\n",
       "  <th>Model:</th>                   <td>OLS</td>       <th>  Adj. R-squared:    </th> <td>   0.041</td>\n",
       "</tr>\n",
       "<tr>\n",
       "  <th>Method:</th>             <td>Least Squares</td>  <th>  F-statistic:       </th> <td>   4.373</td>\n",
       "</tr>\n",
       "<tr>\n",
       "  <th>Date:</th>             <td>Sun, 28 May 2023</td> <th>  Prob (F-statistic):</th>  <td>0.0142</td> \n",
       "</tr>\n",
       "<tr>\n",
       "  <th>Time:</th>                 <td>01:32:04</td>     <th>  Log-Likelihood:    </th> <td>  365.98</td>\n",
       "</tr>\n",
       "<tr>\n",
       "  <th>No. Observations:</th>      <td>   159</td>      <th>  AIC:               </th> <td>  -726.0</td>\n",
       "</tr>\n",
       "<tr>\n",
       "  <th>Df Residuals:</th>          <td>   156</td>      <th>  BIC:               </th> <td>  -716.8</td>\n",
       "</tr>\n",
       "<tr>\n",
       "  <th>Df Model:</th>              <td>     2</td>      <th>                     </th>     <td> </td>   \n",
       "</tr>\n",
       "<tr>\n",
       "  <th>Covariance Type:</th>      <td>nonrobust</td>    <th>                     </th>     <td> </td>   \n",
       "</tr>\n",
       "</table>\n",
       "<table class=\"simpletable\">\n",
       "<tr>\n",
       "      <td></td>         <th>coef</th>     <th>std err</th>      <th>t</th>      <th>P>|t|</th>  <th>[0.025</th>    <th>0.975]</th>  \n",
       "</tr>\n",
       "<tr>\n",
       "  <th>Intercept</th> <td>    0.0324</td> <td>    0.013</td> <td>    2.537</td> <td> 0.012</td> <td>    0.007</td> <td>    0.058</td>\n",
       "</tr>\n",
       "<tr>\n",
       "  <th>pergore</th>   <td>    0.0110</td> <td>    0.047</td> <td>    0.234</td> <td> 0.815</td> <td>   -0.082</td> <td>    0.104</td>\n",
       "</tr>\n",
       "<tr>\n",
       "  <th>perAA</th>     <td>    0.0285</td> <td>    0.031</td> <td>    0.928</td> <td> 0.355</td> <td>   -0.032</td> <td>    0.089</td>\n",
       "</tr>\n",
       "</table>\n",
       "<table class=\"simpletable\">\n",
       "<tr>\n",
       "  <th>Omnibus:</th>       <td>83.197</td> <th>  Durbin-Watson:     </th> <td>   1.912</td> \n",
       "</tr>\n",
       "<tr>\n",
       "  <th>Prob(Omnibus):</th> <td> 0.000</td> <th>  Jarque-Bera (JB):  </th> <td> 474.440</td> \n",
       "</tr>\n",
       "<tr>\n",
       "  <th>Skew:</th>          <td> 1.849</td> <th>  Prob(JB):          </th> <td>9.47e-104</td>\n",
       "</tr>\n",
       "<tr>\n",
       "  <th>Kurtosis:</th>      <td>10.612</td> <th>  Cond. No.          </th> <td>    32.3</td> \n",
       "</tr>\n",
       "</table><br/><br/>Notes:<br/>[1] Standard Errors assume that the covariance matrix of the errors is correctly specified."
      ],
      "text/plain": [
       "<class 'statsmodels.iolib.summary.Summary'>\n",
       "\"\"\"\n",
       "                            OLS Regression Results                            \n",
       "==============================================================================\n",
       "Dep. Variable:             undercount   R-squared:                       0.053\n",
       "Model:                            OLS   Adj. R-squared:                  0.041\n",
       "Method:                 Least Squares   F-statistic:                     4.373\n",
       "Date:                Sun, 28 May 2023   Prob (F-statistic):             0.0142\n",
       "Time:                        01:32:04   Log-Likelihood:                 365.98\n",
       "No. Observations:                 159   AIC:                            -726.0\n",
       "Df Residuals:                     156   BIC:                            -716.8\n",
       "Df Model:                           2                                         \n",
       "Covariance Type:            nonrobust                                         \n",
       "==============================================================================\n",
       "                 coef    std err          t      P>|t|      [0.025      0.975]\n",
       "------------------------------------------------------------------------------\n",
       "Intercept      0.0324      0.013      2.537      0.012       0.007       0.058\n",
       "pergore        0.0110      0.047      0.234      0.815      -0.082       0.104\n",
       "perAA          0.0285      0.031      0.928      0.355      -0.032       0.089\n",
       "==============================================================================\n",
       "Omnibus:                       83.197   Durbin-Watson:                   1.912\n",
       "Prob(Omnibus):                  0.000   Jarque-Bera (JB):              474.440\n",
       "Skew:                           1.849   Prob(JB):                    9.47e-104\n",
       "Kurtosis:                      10.612   Cond. No.                         32.3\n",
       "==============================================================================\n",
       "\n",
       "Notes:\n",
       "[1] Standard Errors assume that the covariance matrix of the errors is correctly specified.\n",
       "\"\"\""
      ]
     },
     "execution_count": 38,
     "metadata": {},
     "output_type": "execute_result"
    }
   ],
   "source": [
    "#display the regression output \n",
    "lmod.summary()"
   ]
  },
  {
   "attachments": {},
   "cell_type": "markdown",
   "metadata": {},
   "source": [
    "<h1> Page 10</h1>"
   ]
  },
  {
   "cell_type": "code",
   "execution_count": 39,
   "metadata": {},
   "outputs": [
    {
     "data": {
      "text/html": [
       "<table class=\"simpletable\">\n",
       "<caption>OLS Regression Results</caption>\n",
       "<tr>\n",
       "  <th>Dep. Variable:</th>       <td>undercount</td>    <th>  R-squared:         </th> <td>   0.170</td>\n",
       "</tr>\n",
       "<tr>\n",
       "  <th>Model:</th>                   <td>OLS</td>       <th>  Adj. R-squared:    </th> <td>   0.125</td>\n",
       "</tr>\n",
       "<tr>\n",
       "  <th>Method:</th>             <td>Least Squares</td>  <th>  F-statistic:       </th> <td>   3.829</td>\n",
       "</tr>\n",
       "<tr>\n",
       "  <th>Date:</th>             <td>Sun, 28 May 2023</td> <th>  Prob (F-statistic):</th> <td>0.000400</td>\n",
       "</tr>\n",
       "<tr>\n",
       "  <th>Time:</th>                 <td>01:32:04</td>     <th>  Log-Likelihood:    </th> <td>  376.42</td>\n",
       "</tr>\n",
       "<tr>\n",
       "  <th>No. Observations:</th>      <td>   159</td>      <th>  AIC:               </th> <td>  -734.8</td>\n",
       "</tr>\n",
       "<tr>\n",
       "  <th>Df Residuals:</th>          <td>   150</td>      <th>  BIC:               </th> <td>  -707.2</td>\n",
       "</tr>\n",
       "<tr>\n",
       "  <th>Df Model:</th>              <td>     8</td>      <th>                     </th>     <td> </td>   \n",
       "</tr>\n",
       "<tr>\n",
       "  <th>Covariance Type:</th>      <td>nonrobust</td>    <th>                     </th>     <td> </td>   \n",
       "</tr>\n",
       "</table>\n",
       "<table class=\"simpletable\">\n",
       "<tr>\n",
       "             <td></td>                <th>coef</th>     <th>std err</th>      <th>t</th>      <th>P>|t|</th>  <th>[0.025</th>    <th>0.975]</th>  \n",
       "</tr>\n",
       "<tr>\n",
       "  <th>Intercept</th>               <td>    0.0433</td> <td>    0.003</td> <td>   15.253</td> <td> 0.000</td> <td>    0.038</td> <td>    0.049</td>\n",
       "</tr>\n",
       "<tr>\n",
       "  <th>usage[T.urban]</th>          <td>   -0.0186</td> <td>    0.005</td> <td>   -4.009</td> <td> 0.000</td> <td>   -0.028</td> <td>   -0.009</td>\n",
       "</tr>\n",
       "<tr>\n",
       "  <th>equip[T.OS-CC]</th>          <td>    0.0065</td> <td>    0.005</td> <td>    1.385</td> <td> 0.168</td> <td>   -0.003</td> <td>    0.016</td>\n",
       "</tr>\n",
       "<tr>\n",
       "  <th>equip[T.OS-PC]</th>          <td>    0.0156</td> <td>    0.006</td> <td>    2.684</td> <td> 0.008</td> <td>    0.004</td> <td>    0.027</td>\n",
       "</tr>\n",
       "<tr>\n",
       "  <th>equip[T.PAPER]</th>          <td>   -0.0091</td> <td>    0.017</td> <td>   -0.537</td> <td> 0.592</td> <td>   -0.043</td> <td>    0.024</td>\n",
       "</tr>\n",
       "<tr>\n",
       "  <th>equip[T.PUNCH]</th>          <td>    0.0141</td> <td>    0.007</td> <td>    2.086</td> <td> 0.039</td> <td>    0.001</td> <td>    0.028</td>\n",
       "</tr>\n",
       "<tr>\n",
       "  <th>cperAA</th>                  <td>    0.0283</td> <td>    0.031</td> <td>    0.909</td> <td> 0.365</td> <td>   -0.033</td> <td>    0.090</td>\n",
       "</tr>\n",
       "<tr>\n",
       "  <th>cpergore</th>                <td>    0.0082</td> <td>    0.051</td> <td>    0.161</td> <td> 0.872</td> <td>   -0.093</td> <td>    0.109</td>\n",
       "</tr>\n",
       "<tr>\n",
       "  <th>cpergore:usage[T.urban]</th> <td>   -0.0088</td> <td>    0.039</td> <td>   -0.227</td> <td> 0.821</td> <td>   -0.085</td> <td>    0.068</td>\n",
       "</tr>\n",
       "</table>\n",
       "<table class=\"simpletable\">\n",
       "<tr>\n",
       "  <th>Omnibus:</th>       <td>68.825</td> <th>  Durbin-Watson:     </th> <td>   1.990</td>\n",
       "</tr>\n",
       "<tr>\n",
       "  <th>Prob(Omnibus):</th> <td> 0.000</td> <th>  Jarque-Bera (JB):  </th> <td> 325.731</td>\n",
       "</tr>\n",
       "<tr>\n",
       "  <th>Skew:</th>          <td> 1.534</td> <th>  Prob(JB):          </th> <td>1.86e-71</td>\n",
       "</tr>\n",
       "<tr>\n",
       "  <th>Kurtosis:</th>      <td> 9.305</td> <th>  Cond. No.          </th> <td>    36.8</td>\n",
       "</tr>\n",
       "</table><br/><br/>Notes:<br/>[1] Standard Errors assume that the covariance matrix of the errors is correctly specified."
      ],
      "text/plain": [
       "<class 'statsmodels.iolib.summary.Summary'>\n",
       "\"\"\"\n",
       "                            OLS Regression Results                            \n",
       "==============================================================================\n",
       "Dep. Variable:             undercount   R-squared:                       0.170\n",
       "Model:                            OLS   Adj. R-squared:                  0.125\n",
       "Method:                 Least Squares   F-statistic:                     3.829\n",
       "Date:                Sun, 28 May 2023   Prob (F-statistic):           0.000400\n",
       "Time:                        01:32:04   Log-Likelihood:                 376.42\n",
       "No. Observations:                 159   AIC:                            -734.8\n",
       "Df Residuals:                     150   BIC:                            -707.2\n",
       "Df Model:                           8                                         \n",
       "Covariance Type:            nonrobust                                         \n",
       "===========================================================================================\n",
       "                              coef    std err          t      P>|t|      [0.025      0.975]\n",
       "-------------------------------------------------------------------------------------------\n",
       "Intercept                   0.0433      0.003     15.253      0.000       0.038       0.049\n",
       "usage[T.urban]             -0.0186      0.005     -4.009      0.000      -0.028      -0.009\n",
       "equip[T.OS-CC]              0.0065      0.005      1.385      0.168      -0.003       0.016\n",
       "equip[T.OS-PC]              0.0156      0.006      2.684      0.008       0.004       0.027\n",
       "equip[T.PAPER]             -0.0091      0.017     -0.537      0.592      -0.043       0.024\n",
       "equip[T.PUNCH]              0.0141      0.007      2.086      0.039       0.001       0.028\n",
       "cperAA                      0.0283      0.031      0.909      0.365      -0.033       0.090\n",
       "cpergore                    0.0082      0.051      0.161      0.872      -0.093       0.109\n",
       "cpergore:usage[T.urban]    -0.0088      0.039     -0.227      0.821      -0.085       0.068\n",
       "==============================================================================\n",
       "Omnibus:                       68.825   Durbin-Watson:                   1.990\n",
       "Prob(Omnibus):                  0.000   Jarque-Bera (JB):              325.731\n",
       "Skew:                           1.534   Prob(JB):                     1.86e-71\n",
       "Kurtosis:                       9.305   Cond. No.                         36.8\n",
       "==============================================================================\n",
       "\n",
       "Notes:\n",
       "[1] Standard Errors assume that the covariance matrix of the errors is correctly specified.\n",
       "\"\"\""
      ]
     },
     "execution_count": 39,
     "metadata": {},
     "output_type": "execute_result"
    }
   ],
   "source": [
    "#center the pergore and perAA terms by their means and add them as columns\n",
    "gavote['cpergore'] = gavote['pergore']-np.mean(gavote['pergore'])\n",
    "gavote['cperAA'] = gavote['perAA'] - np.mean(gavote['perAA'])\n",
    "\n",
    "#fit the linear model\n",
    "lmodi = smf.ols(data = gavote,\n",
    "                formula='undercount~cperAA+cpergore*usage+equip').fit()\n",
    "lmodi.summary()"
   ]
  },
  {
   "attachments": {},
   "cell_type": "markdown",
   "metadata": {},
   "source": [
    "<h1>Page 12</h1>"
   ]
  },
  {
   "cell_type": "code",
   "execution_count": 40,
   "metadata": {},
   "outputs": [],
   "source": [
    "#call the statesmodels api\n",
    "import statsmodels.api as sm"
   ]
  },
  {
   "cell_type": "code",
   "execution_count": 41,
   "metadata": {},
   "outputs": [
    {
     "data": {
      "text/html": [
       "<div>\n",
       "<style scoped>\n",
       "    .dataframe tbody tr th:only-of-type {\n",
       "        vertical-align: middle;\n",
       "    }\n",
       "\n",
       "    .dataframe tbody tr th {\n",
       "        vertical-align: top;\n",
       "    }\n",
       "\n",
       "    .dataframe thead th {\n",
       "        text-align: right;\n",
       "    }\n",
       "</style>\n",
       "<table border=\"1\" class=\"dataframe\">\n",
       "  <thead>\n",
       "    <tr style=\"text-align: right;\">\n",
       "      <th></th>\n",
       "      <th>df_resid</th>\n",
       "      <th>ssr</th>\n",
       "      <th>df_diff</th>\n",
       "      <th>ss_diff</th>\n",
       "      <th>F</th>\n",
       "      <th>Pr(&gt;F)</th>\n",
       "    </tr>\n",
       "  </thead>\n",
       "  <tbody>\n",
       "    <tr>\n",
       "      <th>0</th>\n",
       "      <td>156.0</td>\n",
       "      <td>0.093249</td>\n",
       "      <td>0.0</td>\n",
       "      <td>NaN</td>\n",
       "      <td>NaN</td>\n",
       "      <td>NaN</td>\n",
       "    </tr>\n",
       "    <tr>\n",
       "      <th>1</th>\n",
       "      <td>150.0</td>\n",
       "      <td>0.081775</td>\n",
       "      <td>6.0</td>\n",
       "      <td>0.011474</td>\n",
       "      <td>3.50769</td>\n",
       "      <td>0.002823</td>\n",
       "    </tr>\n",
       "  </tbody>\n",
       "</table>\n",
       "</div>"
      ],
      "text/plain": [
       "   df_resid       ssr  df_diff   ss_diff        F    Pr(>F)\n",
       "0     156.0  0.093249      0.0       NaN      NaN       NaN\n",
       "1     150.0  0.081775      6.0  0.011474  3.50769  0.002823"
      ]
     },
     "execution_count": 41,
     "metadata": {},
     "output_type": "execute_result"
    }
   ],
   "source": [
    "#F-test\n",
    "#anova table \n",
    "#comparing two models comparison\n",
    "sm.stats.anova_lm(lmod, lmodi)"
   ]
  },
  {
   "attachments": {},
   "cell_type": "markdown",
   "metadata": {},
   "source": [
    "<h1>Page 13</h1>"
   ]
  },
  {
   "cell_type": "code",
   "execution_count": 42,
   "metadata": {},
   "outputs": [
    {
     "data": {
      "text/html": [
       "<div>\n",
       "<style scoped>\n",
       "    .dataframe tbody tr th:only-of-type {\n",
       "        vertical-align: middle;\n",
       "    }\n",
       "\n",
       "    .dataframe tbody tr th {\n",
       "        vertical-align: top;\n",
       "    }\n",
       "\n",
       "    .dataframe thead th {\n",
       "        text-align: right;\n",
       "    }\n",
       "</style>\n",
       "<table border=\"1\" class=\"dataframe\">\n",
       "  <thead>\n",
       "    <tr style=\"text-align: right;\">\n",
       "      <th></th>\n",
       "      <th>df</th>\n",
       "      <th>sum_sq</th>\n",
       "      <th>mean_sq</th>\n",
       "      <th>F</th>\n",
       "      <th>PR(&gt;F)</th>\n",
       "    </tr>\n",
       "  </thead>\n",
       "  <tbody>\n",
       "    <tr>\n",
       "      <th>usage</th>\n",
       "      <td>1.0</td>\n",
       "      <td>0.007706</td>\n",
       "      <td>0.007706</td>\n",
       "      <td>14.135706</td>\n",
       "      <td>0.000243</td>\n",
       "    </tr>\n",
       "    <tr>\n",
       "      <th>equip</th>\n",
       "      <td>4.0</td>\n",
       "      <td>0.005295</td>\n",
       "      <td>0.001324</td>\n",
       "      <td>2.428129</td>\n",
       "      <td>0.050300</td>\n",
       "    </tr>\n",
       "    <tr>\n",
       "      <th>cperAA</th>\n",
       "      <td>1.0</td>\n",
       "      <td>0.003670</td>\n",
       "      <td>0.003670</td>\n",
       "      <td>6.732168</td>\n",
       "      <td>0.010408</td>\n",
       "    </tr>\n",
       "    <tr>\n",
       "      <th>cpergore</th>\n",
       "      <td>1.0</td>\n",
       "      <td>0.000002</td>\n",
       "      <td>0.000002</td>\n",
       "      <td>0.003799</td>\n",
       "      <td>0.950934</td>\n",
       "    </tr>\n",
       "    <tr>\n",
       "      <th>cpergore:usage</th>\n",
       "      <td>1.0</td>\n",
       "      <td>0.000028</td>\n",
       "      <td>0.000028</td>\n",
       "      <td>0.051657</td>\n",
       "      <td>0.820515</td>\n",
       "    </tr>\n",
       "    <tr>\n",
       "      <th>Residual</th>\n",
       "      <td>150.0</td>\n",
       "      <td>0.081775</td>\n",
       "      <td>0.000545</td>\n",
       "      <td>NaN</td>\n",
       "      <td>NaN</td>\n",
       "    </tr>\n",
       "  </tbody>\n",
       "</table>\n",
       "</div>"
      ],
      "text/plain": [
       "                   df    sum_sq   mean_sq          F    PR(>F)\n",
       "usage             1.0  0.007706  0.007706  14.135706  0.000243\n",
       "equip             4.0  0.005295  0.001324   2.428129  0.050300\n",
       "cperAA            1.0  0.003670  0.003670   6.732168  0.010408\n",
       "cpergore          1.0  0.000002  0.000002   0.003799  0.950934\n",
       "cpergore:usage    1.0  0.000028  0.000028   0.051657  0.820515\n",
       "Residual        150.0  0.081775  0.000545        NaN       NaN"
      ]
     },
     "execution_count": 42,
     "metadata": {},
     "output_type": "execute_result"
    }
   ],
   "source": [
    "#F-test\n",
    "#anova table\n",
    "#test specific predictors \n",
    "sm.stats.anova_lm(lmodi)"
   ]
  },
  {
   "cell_type": "code",
   "execution_count": 43,
   "metadata": {},
   "outputs": [
    {
     "data": {
      "text/html": [
       "<div>\n",
       "<style scoped>\n",
       "    .dataframe tbody tr th:only-of-type {\n",
       "        vertical-align: middle;\n",
       "    }\n",
       "\n",
       "    .dataframe tbody tr th {\n",
       "        vertical-align: top;\n",
       "    }\n",
       "\n",
       "    .dataframe thead th {\n",
       "        text-align: right;\n",
       "    }\n",
       "</style>\n",
       "<table border=\"1\" class=\"dataframe\">\n",
       "  <thead>\n",
       "    <tr style=\"text-align: right;\">\n",
       "      <th></th>\n",
       "      <th>0</th>\n",
       "      <th>1</th>\n",
       "    </tr>\n",
       "  </thead>\n",
       "  <tbody>\n",
       "    <tr>\n",
       "      <th>Intercept</th>\n",
       "      <td>0.043119</td>\n",
       "      <td>0.043476</td>\n",
       "    </tr>\n",
       "    <tr>\n",
       "      <th>usage[T.urban]</th>\n",
       "      <td>-0.018929</td>\n",
       "      <td>-0.018345</td>\n",
       "    </tr>\n",
       "    <tr>\n",
       "      <th>equip[T.OS-CC]</th>\n",
       "      <td>0.006189</td>\n",
       "      <td>0.006776</td>\n",
       "    </tr>\n",
       "    <tr>\n",
       "      <th>equip[T.OS-PC]</th>\n",
       "      <td>0.015274</td>\n",
       "      <td>0.016006</td>\n",
       "    </tr>\n",
       "    <tr>\n",
       "      <th>equip[T.PAPER]</th>\n",
       "      <td>-0.010155</td>\n",
       "      <td>-0.008029</td>\n",
       "    </tr>\n",
       "    <tr>\n",
       "      <th>equip[T.PUNCH]</th>\n",
       "      <td>0.013724</td>\n",
       "      <td>0.014576</td>\n",
       "    </tr>\n",
       "    <tr>\n",
       "      <th>cperAA</th>\n",
       "      <td>0.026311</td>\n",
       "      <td>0.030217</td>\n",
       "    </tr>\n",
       "    <tr>\n",
       "      <th>cpergore</th>\n",
       "      <td>0.005024</td>\n",
       "      <td>0.011450</td>\n",
       "    </tr>\n",
       "    <tr>\n",
       "      <th>cpergore:usage[T.urban]</th>\n",
       "      <td>-0.011231</td>\n",
       "      <td>-0.006368</td>\n",
       "    </tr>\n",
       "  </tbody>\n",
       "</table>\n",
       "</div>"
      ],
      "text/plain": [
       "                                0         1\n",
       "Intercept                0.043119  0.043476\n",
       "usage[T.urban]          -0.018929 -0.018345\n",
       "equip[T.OS-CC]           0.006189  0.006776\n",
       "equip[T.OS-PC]           0.015274  0.016006\n",
       "equip[T.PAPER]          -0.010155 -0.008029\n",
       "equip[T.PUNCH]           0.013724  0.014576\n",
       "cperAA                   0.026311  0.030217\n",
       "cpergore                 0.005024  0.011450\n",
       "cpergore:usage[T.urban] -0.011231 -0.006368"
      ]
     },
     "execution_count": 43,
     "metadata": {},
     "output_type": "execute_result"
    }
   ],
   "source": [
    "#t-test\n",
    "#95th confident interval\n",
    "lmodi.conf_int(0.95)"
   ]
  },
  {
   "attachments": {},
   "cell_type": "markdown",
   "metadata": {},
   "source": [
    "<h1> Page 14 </h1>\n",
    "This is is a good example why R is better than Python for Statistical Analysis, the R-code of the following python code is just >> plot(lmodi)"
   ]
  },
  {
   "cell_type": "code",
   "execution_count": 44,
   "metadata": {},
   "outputs": [],
   "source": [
    "#assign predicted/fitted values\n",
    "y_pred = lmodi.predict()"
   ]
  },
  {
   "cell_type": "code",
   "execution_count": 45,
   "metadata": {},
   "outputs": [],
   "source": [
    "#assign residuals\n",
    "residuals = lmodi.resid"
   ]
  },
  {
   "cell_type": "code",
   "execution_count": 46,
   "metadata": {},
   "outputs": [],
   "source": [
    "#assign pearson's residuals\n",
    "stand_residuals = lmodi.resid_pearson"
   ]
  },
  {
   "cell_type": "code",
   "execution_count": 47,
   "metadata": {},
   "outputs": [],
   "source": [
    "#get the leverage values\n",
    "leverage = lmodi.get_influence().hat_matrix_diag"
   ]
  },
  {
   "cell_type": "code",
   "execution_count": 48,
   "metadata": {},
   "outputs": [
    {
     "data": {
      "image/png": "[encoded data removed]",
      "text/plain": [
       "<Figure size 1000x800 with 4 Axes>"
      ]
     },
     "metadata": {},
     "output_type": "display_data"
    }
   ],
   "source": [
    "#plot a 2*2 figure\n",
    "fig, axes = plt.subplots(2,2, figsize = (10,8))\n",
    "\n",
    "#plot residuals vs fitted\n",
    "sns.scatterplot(x = y_pred, y = residuals, ax = axes[0,0])\n",
    "axes[0,0].set_title('Residuals vs Fitted')\n",
    "axes[0,0].set_xlabel('Fitted values')\n",
    "axes[0,0].set_ylabel('Residuals')\n",
    "\n",
    "#plot qq plot\n",
    "sm.qqplot(residuals, line = 's', ax = axes[0,1])\n",
    "axes[0,1].set_title('Normal Q-Q')\n",
    "axes[0,1].set_ylabel('Standardized residuals')\n",
    "\n",
    "#a scale-loaction plot\n",
    "sns.scatterplot(x = y_pred, y = np.sqrt(abs(stand_residuals)), ax =axes[1,0])\n",
    "axes[1,0].set_title('Scale-Location')\n",
    "axes[1,0].set_ylabel('sqrt(Standardized residuals)')\n",
    "axes[1,0].set_xlabel('Fitted values')\n",
    "\n",
    "#plot Standardized Residuals vs. Leverage\n",
    "sns.scatterplot(x = leverage, y = stand_residuals, ax = axes[1,1])\n",
    "axes[1,1].set_title('Residuals vs. Leverage')\n",
    "axes[1,1].set_ylabel('Standardized residuals')\n",
    "axes[1,1].set_xlabel('Leverage')\n",
    "\n",
    "plt.tight_layout();"
   ]
  },
  {
   "attachments": {},
   "cell_type": "markdown",
   "metadata": {},
   "source": [
    "<h1> Page 16 </h1>"
   ]
  },
  {
   "cell_type": "code",
   "execution_count": 61,
   "metadata": {},
   "outputs": [
    {
     "data": {
      "text/html": [
       "<div>\n",
       "<style scoped>\n",
       "    .dataframe tbody tr th:only-of-type {\n",
       "        vertical-align: middle;\n",
       "    }\n",
       "\n",
       "    .dataframe tbody tr th {\n",
       "        vertical-align: top;\n",
       "    }\n",
       "\n",
       "    .dataframe thead th {\n",
       "        text-align: right;\n",
       "    }\n",
       "</style>\n",
       "<table border=\"1\" class=\"dataframe\">\n",
       "  <thead>\n",
       "    <tr style=\"text-align: right;\">\n",
       "      <th></th>\n",
       "      <th>equip</th>\n",
       "      <th>econ</th>\n",
       "      <th>perAA</th>\n",
       "      <th>usage</th>\n",
       "      <th>atlanta</th>\n",
       "      <th>gore</th>\n",
       "      <th>bush</th>\n",
       "      <th>other</th>\n",
       "      <th>votes</th>\n",
       "      <th>ballots</th>\n",
       "      <th>undercount</th>\n",
       "      <th>pergore</th>\n",
       "      <th>cpergore</th>\n",
       "      <th>cperAA</th>\n",
       "    </tr>\n",
       "  </thead>\n",
       "  <tbody>\n",
       "    <tr>\n",
       "      <th>BEN.HILL</th>\n",
       "      <td>OS-PC</td>\n",
       "      <td>poor</td>\n",
       "      <td>0.282</td>\n",
       "      <td>rural</td>\n",
       "      <td>notAtlanta</td>\n",
       "      <td>2234</td>\n",
       "      <td>2381</td>\n",
       "      <td>46</td>\n",
       "      <td>4661</td>\n",
       "      <td>5741</td>\n",
       "      <td>0.188121</td>\n",
       "      <td>0.479296</td>\n",
       "      <td>0.070975</td>\n",
       "      <td>0.039019</td>\n",
       "    </tr>\n",
       "    <tr>\n",
       "      <th>RANDOLPH</th>\n",
       "      <td>OS-PC</td>\n",
       "      <td>poor</td>\n",
       "      <td>0.527</td>\n",
       "      <td>rural</td>\n",
       "      <td>notAtlanta</td>\n",
       "      <td>1381</td>\n",
       "      <td>1174</td>\n",
       "      <td>14</td>\n",
       "      <td>2569</td>\n",
       "      <td>3021</td>\n",
       "      <td>0.149619</td>\n",
       "      <td>0.537563</td>\n",
       "      <td>0.129241</td>\n",
       "      <td>0.284019</td>\n",
       "    </tr>\n",
       "  </tbody>\n",
       "</table>\n",
       "</div>"
      ],
      "text/plain": [
       "          equip  econ  perAA  usage     atlanta  gore  bush  other  votes  \\\n",
       "BEN.HILL  OS-PC  poor  0.282  rural  notAtlanta  2234  2381     46   4661   \n",
       "RANDOLPH  OS-PC  poor  0.527  rural  notAtlanta  1381  1174     14   2569   \n",
       "\n",
       "          ballots  undercount   pergore  cpergore    cperAA  \n",
       "BEN.HILL     5741    0.188121  0.479296  0.070975  0.039019  \n",
       "RANDOLPH     3021    0.149619  0.537563  0.129241  0.284019  "
      ]
     },
     "execution_count": 61,
     "metadata": {},
     "output_type": "execute_result"
    }
   ],
   "source": [
    "#calculate Cook's distnace for each observation\n",
    "cooks_distance = lmodi.get_influence().cooks_distance[0]\n",
    "\n",
    "#filter all rows in the dataframe that have Cook statistics larger than 0.1\n",
    "gavote[cooks_distance > 0.1]"
   ]
  },
  {
   "cell_type": "code",
   "execution_count": 63,
   "metadata": {},
   "outputs": [
    {
     "data": {
      "text/html": [
       "<div>\n",
       "<style scoped>\n",
       "    .dataframe tbody tr th:only-of-type {\n",
       "        vertical-align: middle;\n",
       "    }\n",
       "\n",
       "    .dataframe tbody tr th {\n",
       "        vertical-align: top;\n",
       "    }\n",
       "\n",
       "    .dataframe thead th {\n",
       "        text-align: right;\n",
       "    }\n",
       "</style>\n",
       "<table border=\"1\" class=\"dataframe\">\n",
       "  <thead>\n",
       "    <tr style=\"text-align: right;\">\n",
       "      <th></th>\n",
       "      <th>equip</th>\n",
       "      <th>econ</th>\n",
       "      <th>perAA</th>\n",
       "      <th>usage</th>\n",
       "      <th>atlanta</th>\n",
       "      <th>gore</th>\n",
       "      <th>bush</th>\n",
       "      <th>other</th>\n",
       "      <th>votes</th>\n",
       "      <th>ballots</th>\n",
       "      <th>undercount</th>\n",
       "      <th>pergore</th>\n",
       "      <th>cpergore</th>\n",
       "      <th>cperAA</th>\n",
       "    </tr>\n",
       "  </thead>\n",
       "  <tbody>\n",
       "    <tr>\n",
       "      <th>MONTGOMERY</th>\n",
       "      <td>PAPER</td>\n",
       "      <td>poor</td>\n",
       "      <td>0.243</td>\n",
       "      <td>rural</td>\n",
       "      <td>notAtlanta</td>\n",
       "      <td>1013</td>\n",
       "      <td>1465</td>\n",
       "      <td>31</td>\n",
       "      <td>2509</td>\n",
       "      <td>2573</td>\n",
       "      <td>0.024874</td>\n",
       "      <td>0.403747</td>\n",
       "      <td>-0.004575</td>\n",
       "      <td>0.000019</td>\n",
       "    </tr>\n",
       "    <tr>\n",
       "      <th>TALIAFERRO</th>\n",
       "      <td>PAPER</td>\n",
       "      <td>poor</td>\n",
       "      <td>0.596</td>\n",
       "      <td>rural</td>\n",
       "      <td>notAtlanta</td>\n",
       "      <td>556</td>\n",
       "      <td>271</td>\n",
       "      <td>5</td>\n",
       "      <td>832</td>\n",
       "      <td>881</td>\n",
       "      <td>0.055619</td>\n",
       "      <td>0.668269</td>\n",
       "      <td>0.259947</td>\n",
       "      <td>0.353019</td>\n",
       "    </tr>\n",
       "  </tbody>\n",
       "</table>\n",
       "</div>"
      ],
      "text/plain": [
       "            equip  econ  perAA  usage     atlanta  gore  bush  other  votes  \\\n",
       "MONTGOMERY  PAPER  poor  0.243  rural  notAtlanta  1013  1465     31   2509   \n",
       "TALIAFERRO  PAPER  poor  0.596  rural  notAtlanta   556   271      5    832   \n",
       "\n",
       "            ballots  undercount   pergore  cpergore    cperAA  \n",
       "MONTGOMERY     2573    0.024874  0.403747 -0.004575  0.000019  \n",
       "TALIAFERRO      881    0.055619  0.668269  0.259947  0.353019  "
      ]
     },
     "execution_count": 63,
     "metadata": {},
     "output_type": "execute_result"
    }
   ],
   "source": [
    "#note that the author uses hatvalues and leverage values interchangeably \n",
    "hatvalues = leverage\n",
    "\n",
    "#filter all rows in the dataframe that have hatvalues larger than 0.3\n",
    "gavote[hatvalues > 0.3]"
   ]
  },
  {
   "cell_type": "code",
   "execution_count": 155,
   "metadata": {},
   "outputs": [
    {
     "data": {
      "text/html": [
       "<table class=\"simpletable\">\n",
       "<caption>OLS Regression Results</caption>\n",
       "<tr>\n",
       "  <th>Dep. Variable:</th>       <td>undercount</td>    <th>  R-squared:         </th> <td>   0.170</td>\n",
       "</tr>\n",
       "<tr>\n",
       "  <th>Model:</th>                   <td>OLS</td>       <th>  Adj. R-squared:    </th> <td>   0.125</td>\n",
       "</tr>\n",
       "<tr>\n",
       "  <th>Method:</th>             <td>Least Squares</td>  <th>  F-statistic:       </th> <td>   3.829</td>\n",
       "</tr>\n",
       "<tr>\n",
       "  <th>Date:</th>             <td>Sun, 28 May 2023</td> <th>  Prob (F-statistic):</th> <td>0.000400</td>\n",
       "</tr>\n",
       "<tr>\n",
       "  <th>Time:</th>                 <td>02:19:09</td>     <th>  Log-Likelihood:    </th> <td>  376.42</td>\n",
       "</tr>\n",
       "<tr>\n",
       "  <th>No. Observations:</th>      <td>   159</td>      <th>  AIC:               </th> <td>  -734.8</td>\n",
       "</tr>\n",
       "<tr>\n",
       "  <th>Df Residuals:</th>          <td>   150</td>      <th>  BIC:               </th> <td>  -707.2</td>\n",
       "</tr>\n",
       "<tr>\n",
       "  <th>Df Model:</th>              <td>     8</td>      <th>                     </th>     <td> </td>   \n",
       "</tr>\n",
       "<tr>\n",
       "  <th>Covariance Type:</th>      <td>nonrobust</td>    <th>                     </th>     <td> </td>   \n",
       "</tr>\n",
       "</table>\n",
       "<table class=\"simpletable\">\n",
       "<tr>\n",
       "             <td></td>                <th>coef</th>     <th>std err</th>      <th>t</th>      <th>P>|t|</th>  <th>[0.025</th>    <th>0.975]</th>  \n",
       "</tr>\n",
       "<tr>\n",
       "  <th>Intercept</th>               <td>    0.0433</td> <td>    0.003</td> <td>   15.253</td> <td> 0.000</td> <td>    0.038</td> <td>    0.049</td>\n",
       "</tr>\n",
       "<tr>\n",
       "  <th>usage[T.urban]</th>          <td>   -0.0186</td> <td>    0.005</td> <td>   -4.009</td> <td> 0.000</td> <td>   -0.028</td> <td>   -0.009</td>\n",
       "</tr>\n",
       "<tr>\n",
       "  <th>equip[T.OS-CC]</th>          <td>    0.0065</td> <td>    0.005</td> <td>    1.385</td> <td> 0.168</td> <td>   -0.003</td> <td>    0.016</td>\n",
       "</tr>\n",
       "<tr>\n",
       "  <th>equip[T.OS-PC]</th>          <td>    0.0156</td> <td>    0.006</td> <td>    2.684</td> <td> 0.008</td> <td>    0.004</td> <td>    0.027</td>\n",
       "</tr>\n",
       "<tr>\n",
       "  <th>equip[T.PAPER]</th>          <td>   -0.0091</td> <td>    0.017</td> <td>   -0.537</td> <td> 0.592</td> <td>   -0.043</td> <td>    0.024</td>\n",
       "</tr>\n",
       "<tr>\n",
       "  <th>equip[T.PUNCH]</th>          <td>    0.0141</td> <td>    0.007</td> <td>    2.086</td> <td> 0.039</td> <td>    0.001</td> <td>    0.028</td>\n",
       "</tr>\n",
       "<tr>\n",
       "  <th>cperAA</th>                  <td>    0.0283</td> <td>    0.031</td> <td>    0.909</td> <td> 0.365</td> <td>   -0.033</td> <td>    0.090</td>\n",
       "</tr>\n",
       "<tr>\n",
       "  <th>cpergore</th>                <td>    0.0082</td> <td>    0.051</td> <td>    0.161</td> <td> 0.872</td> <td>   -0.093</td> <td>    0.109</td>\n",
       "</tr>\n",
       "<tr>\n",
       "  <th>cpergore:usage[T.urban]</th> <td>   -0.0088</td> <td>    0.039</td> <td>   -0.227</td> <td> 0.821</td> <td>   -0.085</td> <td>    0.068</td>\n",
       "</tr>\n",
       "</table>\n",
       "<table class=\"simpletable\">\n",
       "<tr>\n",
       "  <th>Omnibus:</th>       <td>68.825</td> <th>  Durbin-Watson:     </th> <td>   1.990</td>\n",
       "</tr>\n",
       "<tr>\n",
       "  <th>Prob(Omnibus):</th> <td> 0.000</td> <th>  Jarque-Bera (JB):  </th> <td> 325.731</td>\n",
       "</tr>\n",
       "<tr>\n",
       "  <th>Skew:</th>          <td> 1.534</td> <th>  Prob(JB):          </th> <td>1.86e-71</td>\n",
       "</tr>\n",
       "<tr>\n",
       "  <th>Kurtosis:</th>      <td> 9.305</td> <th>  Cond. No.          </th> <td>    36.8</td>\n",
       "</tr>\n",
       "</table><br/><br/>Notes:<br/>[1] Standard Errors assume that the covariance matrix of the errors is correctly specified."
      ],
      "text/plain": [
       "<class 'statsmodels.iolib.summary.Summary'>\n",
       "\"\"\"\n",
       "                            OLS Regression Results                            \n",
       "==============================================================================\n",
       "Dep. Variable:             undercount   R-squared:                       0.170\n",
       "Model:                            OLS   Adj. R-squared:                  0.125\n",
       "Method:                 Least Squares   F-statistic:                     3.829\n",
       "Date:                Sun, 28 May 2023   Prob (F-statistic):           0.000400\n",
       "Time:                        02:19:09   Log-Likelihood:                 376.42\n",
       "No. Observations:                 159   AIC:                            -734.8\n",
       "Df Residuals:                     150   BIC:                            -707.2\n",
       "Df Model:                           8                                         \n",
       "Covariance Type:            nonrobust                                         \n",
       "===========================================================================================\n",
       "                              coef    std err          t      P>|t|      [0.025      0.975]\n",
       "-------------------------------------------------------------------------------------------\n",
       "Intercept                   0.0433      0.003     15.253      0.000       0.038       0.049\n",
       "usage[T.urban]             -0.0186      0.005     -4.009      0.000      -0.028      -0.009\n",
       "equip[T.OS-CC]              0.0065      0.005      1.385      0.168      -0.003       0.016\n",
       "equip[T.OS-PC]              0.0156      0.006      2.684      0.008       0.004       0.027\n",
       "equip[T.PAPER]             -0.0091      0.017     -0.537      0.592      -0.043       0.024\n",
       "equip[T.PUNCH]              0.0141      0.007      2.086      0.039       0.001       0.028\n",
       "cperAA                      0.0283      0.031      0.909      0.365      -0.033       0.090\n",
       "cpergore                    0.0082      0.051      0.161      0.872      -0.093       0.109\n",
       "cpergore:usage[T.urban]    -0.0088      0.039     -0.227      0.821      -0.085       0.068\n",
       "==============================================================================\n",
       "Omnibus:                       68.825   Durbin-Watson:                   1.990\n",
       "Prob(Omnibus):                  0.000   Jarque-Bera (JB):              325.731\n",
       "Skew:                           1.534   Prob(JB):                     1.86e-71\n",
       "Kurtosis:                       9.305   Cond. No.                         36.8\n",
       "==============================================================================\n",
       "\n",
       "Notes:\n",
       "[1] Standard Errors assume that the covariance matrix of the errors is correctly specified.\n",
       "\"\"\""
      ]
     },
     "execution_count": 155,
     "metadata": {},
     "output_type": "execute_result"
    }
   ],
   "source": [
    "# from statsmodels.graphics.regressionplots import plot_partregress_grid\n",
    "lmodi.summary()"
   ]
  },
  {
   "cell_type": "code",
   "execution_count": 206,
   "metadata": {},
   "outputs": [
    {
     "data": {
      "image/png": "[encoded data removed]",
      "text/plain": [
       "<Figure size 640x480 with 1 Axes>"
      ]
     },
     "metadata": {},
     "output_type": "display_data"
    }
   ],
   "source": [
    "#the half-normal plot of the leverages\n",
    "sm.qqplot(hatvalues)\n",
    "plt.xlabel('Half-normal quantiles')\n",
    "plt.ylabel('Sorted Data');"
   ]
  },
  {
   "cell_type": "code",
   "execution_count": 212,
   "metadata": {},
   "outputs": [
    {
     "name": "stdout",
     "output_type": "stream",
     "text": [
      "eval_env: 1\n",
      "eval_env: 1\n"
     ]
    },
    {
     "data": {
      "image/png": "[encoded data removed]",
      "text/plain": [
       "<Figure size 1000x500 with 2 Axes>"
      ]
     },
     "metadata": {},
     "output_type": "display_data"
    }
   ],
   "source": [
    "figure = plt.figure(figsize = (10,5))\n",
    "sm.graphics.plot_partregress_grid(lmodi, exog_idx = ['cperAA','cpergore'], fig=figure);"
   ]
  },
  {
   "attachments": {},
   "cell_type": "markdown",
   "metadata": {},
   "source": [
    "<h2> Weighted least squares:"
   ]
  },
  {
   "cell_type": "code",
   "execution_count": 59,
   "metadata": {},
   "outputs": [
    {
     "data": {
      "text/html": [
       "<div>\n",
       "<style scoped>\n",
       "    .dataframe tbody tr th:only-of-type {\n",
       "        vertical-align: middle;\n",
       "    }\n",
       "\n",
       "    .dataframe tbody tr th {\n",
       "        vertical-align: top;\n",
       "    }\n",
       "\n",
       "    .dataframe thead th {\n",
       "        text-align: right;\n",
       "    }\n",
       "</style>\n",
       "<table border=\"1\" class=\"dataframe\">\n",
       "  <thead>\n",
       "    <tr style=\"text-align: right;\">\n",
       "      <th></th>\n",
       "      <th>counties</th>\n",
       "      <th>equip</th>\n",
       "      <th>econ</th>\n",
       "      <th>perAA</th>\n",
       "      <th>rural</th>\n",
       "      <th>atlanta</th>\n",
       "      <th>gore</th>\n",
       "      <th>bush</th>\n",
       "      <th>other</th>\n",
       "      <th>votes</th>\n",
       "      <th>ballots</th>\n",
       "      <th>absolute_undercount</th>\n",
       "      <th>relative_undercount</th>\n",
       "      <th>pergore</th>\n",
       "      <th>cperAA</th>\n",
       "      <th>cpergore</th>\n",
       "    </tr>\n",
       "  </thead>\n",
       "  <tbody>\n",
       "    <tr>\n",
       "      <th>0</th>\n",
       "      <td>APPLING</td>\n",
       "      <td>LEVER</td>\n",
       "      <td>poor</td>\n",
       "      <td>0.182</td>\n",
       "      <td>rural</td>\n",
       "      <td>notAtlanta</td>\n",
       "      <td>2093</td>\n",
       "      <td>3940</td>\n",
       "      <td>66</td>\n",
       "      <td>6099</td>\n",
       "      <td>6617</td>\n",
       "      <td>518</td>\n",
       "      <td>0.078283</td>\n",
       "      <td>0.343171</td>\n",
       "      <td>-0.060981</td>\n",
       "      <td>-0.065151</td>\n",
       "    </tr>\n",
       "    <tr>\n",
       "      <th>1</th>\n",
       "      <td>ATKINSON</td>\n",
       "      <td>LEVER</td>\n",
       "      <td>poor</td>\n",
       "      <td>0.230</td>\n",
       "      <td>rural</td>\n",
       "      <td>notAtlanta</td>\n",
       "      <td>821</td>\n",
       "      <td>1228</td>\n",
       "      <td>22</td>\n",
       "      <td>2071</td>\n",
       "      <td>2149</td>\n",
       "      <td>78</td>\n",
       "      <td>0.036296</td>\n",
       "      <td>0.396427</td>\n",
       "      <td>-0.012981</td>\n",
       "      <td>-0.011895</td>\n",
       "    </tr>\n",
       "    <tr>\n",
       "      <th>2</th>\n",
       "      <td>BACON</td>\n",
       "      <td>LEVER</td>\n",
       "      <td>poor</td>\n",
       "      <td>0.131</td>\n",
       "      <td>rural</td>\n",
       "      <td>notAtlanta</td>\n",
       "      <td>956</td>\n",
       "      <td>2010</td>\n",
       "      <td>29</td>\n",
       "      <td>2995</td>\n",
       "      <td>3347</td>\n",
       "      <td>352</td>\n",
       "      <td>0.105169</td>\n",
       "      <td>0.319199</td>\n",
       "      <td>-0.111981</td>\n",
       "      <td>-0.089123</td>\n",
       "    </tr>\n",
       "    <tr>\n",
       "      <th>3</th>\n",
       "      <td>BAKER</td>\n",
       "      <td>OS-CC</td>\n",
       "      <td>poor</td>\n",
       "      <td>0.476</td>\n",
       "      <td>rural</td>\n",
       "      <td>notAtlanta</td>\n",
       "      <td>893</td>\n",
       "      <td>615</td>\n",
       "      <td>11</td>\n",
       "      <td>1519</td>\n",
       "      <td>1607</td>\n",
       "      <td>88</td>\n",
       "      <td>0.054760</td>\n",
       "      <td>0.587887</td>\n",
       "      <td>0.233019</td>\n",
       "      <td>0.179565</td>\n",
       "    </tr>\n",
       "    <tr>\n",
       "      <th>4</th>\n",
       "      <td>BALDWIN</td>\n",
       "      <td>LEVER</td>\n",
       "      <td>middle</td>\n",
       "      <td>0.359</td>\n",
       "      <td>rural</td>\n",
       "      <td>notAtlanta</td>\n",
       "      <td>5893</td>\n",
       "      <td>6041</td>\n",
       "      <td>192</td>\n",
       "      <td>12126</td>\n",
       "      <td>12785</td>\n",
       "      <td>659</td>\n",
       "      <td>0.051545</td>\n",
       "      <td>0.485981</td>\n",
       "      <td>0.116019</td>\n",
       "      <td>0.077659</td>\n",
       "    </tr>\n",
       "  </tbody>\n",
       "</table>\n",
       "</div>"
      ],
      "text/plain": [
       "   counties  equip    econ  perAA  rural     atlanta  gore  bush  other  \\\n",
       "0   APPLING  LEVER    poor  0.182  rural  notAtlanta  2093  3940     66   \n",
       "1  ATKINSON  LEVER    poor  0.230  rural  notAtlanta   821  1228     22   \n",
       "2     BACON  LEVER    poor  0.131  rural  notAtlanta   956  2010     29   \n",
       "3     BAKER  OS-CC    poor  0.476  rural  notAtlanta   893   615     11   \n",
       "4   BALDWIN  LEVER  middle  0.359  rural  notAtlanta  5893  6041    192   \n",
       "\n",
       "   votes  ballots  absolute_undercount  relative_undercount   pergore  \\\n",
       "0   6099     6617                  518             0.078283  0.343171   \n",
       "1   2071     2149                   78             0.036296  0.396427   \n",
       "2   2995     3347                  352             0.105169  0.319199   \n",
       "3   1519     1607                   88             0.054760  0.587887   \n",
       "4  12126    12785                  659             0.051545  0.485981   \n",
       "\n",
       "     cperAA  cpergore  \n",
       "0 -0.060981 -0.065151  \n",
       "1 -0.012981 -0.011895  \n",
       "2 -0.111981 -0.089123  \n",
       "3  0.233019  0.179565  \n",
       "4  0.116019  0.077659  "
      ]
     },
     "execution_count": 59,
     "metadata": {},
     "output_type": "execute_result"
    }
   ],
   "source": [
    "df_gavote.head()"
   ]
  },
  {
   "cell_type": "code",
   "execution_count": 120,
   "metadata": {},
   "outputs": [],
   "source": [
    "wlmodi = smf.wls(data = df_gavote, formula = 'relative_undercount~cperAA+cpergore*rural+equip', weights = np.array(df_gavote['ballots'])).fit()"
   ]
  },
  {
   "cell_type": "code",
   "execution_count": 121,
   "metadata": {},
   "outputs": [
    {
     "data": {
      "text/html": [
       "<table class=\"simpletable\">\n",
       "<caption>WLS Regression Results</caption>\n",
       "<tr>\n",
       "  <th>Dep. Variable:</th>    <td>relative_undercount</td> <th>  R-squared:         </th> <td>   0.410</td>\n",
       "</tr>\n",
       "<tr>\n",
       "  <th>Model:</th>                    <td>WLS</td>         <th>  Adj. R-squared:    </th> <td>   0.378</td>\n",
       "</tr>\n",
       "<tr>\n",
       "  <th>Method:</th>              <td>Least Squares</td>    <th>  F-statistic:       </th> <td>   13.02</td>\n",
       "</tr>\n",
       "<tr>\n",
       "  <th>Date:</th>              <td>Thu, 24 Mar 2022</td>   <th>  Prob (F-statistic):</th> <td>3.67e-14</td>\n",
       "</tr>\n",
       "<tr>\n",
       "  <th>Time:</th>                  <td>05:37:34</td>       <th>  Log-Likelihood:    </th> <td>  364.72</td>\n",
       "</tr>\n",
       "<tr>\n",
       "  <th>No. Observations:</th>       <td>   159</td>        <th>  AIC:               </th> <td>  -711.4</td>\n",
       "</tr>\n",
       "<tr>\n",
       "  <th>Df Residuals:</th>           <td>   150</td>        <th>  BIC:               </th> <td>  -683.8</td>\n",
       "</tr>\n",
       "<tr>\n",
       "  <th>Df Model:</th>               <td>     8</td>        <th>                     </th>     <td> </td>   \n",
       "</tr>\n",
       "<tr>\n",
       "  <th>Covariance Type:</th>       <td>nonrobust</td>      <th>                     </th>     <td> </td>   \n",
       "</tr>\n",
       "</table>\n",
       "<table class=\"simpletable\">\n",
       "<tr>\n",
       "             <td></td>                <th>coef</th>     <th>std err</th>      <th>t</th>      <th>P>|t|</th>  <th>[0.025</th>    <th>0.975]</th>  \n",
       "</tr>\n",
       "<tr>\n",
       "  <th>Intercept</th>               <td>    0.0437</td> <td>    0.003</td> <td>   12.689</td> <td> 0.000</td> <td>    0.037</td> <td>    0.050</td>\n",
       "</tr>\n",
       "<tr>\n",
       "  <th>rural[T.urban]</th>          <td>   -0.0179</td> <td>    0.004</td> <td>   -4.815</td> <td> 0.000</td> <td>   -0.025</td> <td>   -0.011</td>\n",
       "</tr>\n",
       "<tr>\n",
       "  <th>equip[T.OS-CC]</th>          <td>    0.0056</td> <td>    0.005</td> <td>    1.201</td> <td> 0.232</td> <td>   -0.004</td> <td>    0.015</td>\n",
       "</tr>\n",
       "<tr>\n",
       "  <th>equip[T.OS-PC]</th>          <td>   -0.0058</td> <td>    0.005</td> <td>   -1.242</td> <td> 0.216</td> <td>   -0.015</td> <td>    0.003</td>\n",
       "</tr>\n",
       "<tr>\n",
       "  <th>equip[T.PAPER]</th>          <td>   -0.0142</td> <td>    0.037</td> <td>   -0.380</td> <td> 0.705</td> <td>   -0.088</td> <td>    0.060</td>\n",
       "</tr>\n",
       "<tr>\n",
       "  <th>equip[T.PUNCH]</th>          <td>    0.0157</td> <td>    0.005</td> <td>    2.913</td> <td> 0.004</td> <td>    0.005</td> <td>    0.026</td>\n",
       "</tr>\n",
       "<tr>\n",
       "  <th>cperAA</th>                  <td>    0.0681</td> <td>    0.028</td> <td>    2.473</td> <td> 0.015</td> <td>    0.014</td> <td>    0.123</td>\n",
       "</tr>\n",
       "<tr>\n",
       "  <th>cpergore</th>                <td>   -0.0469</td> <td>    0.053</td> <td>   -0.889</td> <td> 0.375</td> <td>   -0.151</td> <td>    0.057</td>\n",
       "</tr>\n",
       "<tr>\n",
       "  <th>cpergore:rural[T.urban]</th> <td>    0.0120</td> <td>    0.036</td> <td>    0.337</td> <td> 0.737</td> <td>   -0.058</td> <td>    0.082</td>\n",
       "</tr>\n",
       "</table>\n",
       "<table class=\"simpletable\">\n",
       "<tr>\n",
       "  <th>Omnibus:</th>       <td>55.024</td> <th>  Durbin-Watson:     </th> <td>   1.698</td>\n",
       "</tr>\n",
       "<tr>\n",
       "  <th>Prob(Omnibus):</th> <td> 0.000</td> <th>  Jarque-Bera (JB):  </th> <td> 266.937</td>\n",
       "</tr>\n",
       "<tr>\n",
       "  <th>Skew:</th>          <td> 1.160</td> <th>  Prob(JB):          </th> <td>1.08e-58</td>\n",
       "</tr>\n",
       "<tr>\n",
       "  <th>Kurtosis:</th>      <td> 8.909</td> <th>  Cond. No.          </th> <td>    65.8</td>\n",
       "</tr>\n",
       "</table><br/><br/>Notes:<br/>[1] Standard Errors assume that the covariance matrix of the errors is correctly specified."
      ],
      "text/plain": [
       "<class 'statsmodels.iolib.summary.Summary'>\n",
       "\"\"\"\n",
       "                             WLS Regression Results                            \n",
       "===============================================================================\n",
       "Dep. Variable:     relative_undercount   R-squared:                       0.410\n",
       "Model:                             WLS   Adj. R-squared:                  0.378\n",
       "Method:                  Least Squares   F-statistic:                     13.02\n",
       "Date:                 Thu, 24 Mar 2022   Prob (F-statistic):           3.67e-14\n",
       "Time:                         05:37:34   Log-Likelihood:                 364.72\n",
       "No. Observations:                  159   AIC:                            -711.4\n",
       "Df Residuals:                      150   BIC:                            -683.8\n",
       "Df Model:                            8                                         \n",
       "Covariance Type:             nonrobust                                         \n",
       "===========================================================================================\n",
       "                              coef    std err          t      P>|t|      [0.025      0.975]\n",
       "-------------------------------------------------------------------------------------------\n",
       "Intercept                   0.0437      0.003     12.689      0.000       0.037       0.050\n",
       "rural[T.urban]             -0.0179      0.004     -4.815      0.000      -0.025      -0.011\n",
       "equip[T.OS-CC]              0.0056      0.005      1.201      0.232      -0.004       0.015\n",
       "equip[T.OS-PC]             -0.0058      0.005     -1.242      0.216      -0.015       0.003\n",
       "equip[T.PAPER]             -0.0142      0.037     -0.380      0.705      -0.088       0.060\n",
       "equip[T.PUNCH]              0.0157      0.005      2.913      0.004       0.005       0.026\n",
       "cperAA                      0.0681      0.028      2.473      0.015       0.014       0.123\n",
       "cpergore                   -0.0469      0.053     -0.889      0.375      -0.151       0.057\n",
       "cpergore:rural[T.urban]     0.0120      0.036      0.337      0.737      -0.058       0.082\n",
       "==============================================================================\n",
       "Omnibus:                       55.024   Durbin-Watson:                   1.698\n",
       "Prob(Omnibus):                  0.000   Jarque-Bera (JB):              266.937\n",
       "Skew:                           1.160   Prob(JB):                     1.08e-58\n",
       "Kurtosis:                       8.909   Cond. No.                         65.8\n",
       "==============================================================================\n",
       "\n",
       "Notes:\n",
       "[1] Standard Errors assume that the covariance matrix of the errors is correctly specified.\n",
       "\"\"\""
      ]
     },
     "execution_count": 121,
     "metadata": {},
     "output_type": "execute_result"
    }
   ],
   "source": [
    "wlmodi.summary()"
   ]
  },
  {
   "cell_type": "code",
   "execution_count": 122,
   "metadata": {},
   "outputs": [
    {
     "data": {
      "text/plain": [
       "0.006191697417719903"
      ]
     },
     "execution_count": 122,
     "metadata": {},
     "output_type": "execute_result"
    }
   ],
   "source": [
    "np.sqrt(0.035*(1-0.035)/881)"
   ]
  },
  {
   "attachments": {},
   "cell_type": "markdown",
   "metadata": {},
   "source": [
    "<h2> Transformation"
   ]
  },
  {
   "cell_type": "code",
   "execution_count": 95,
   "metadata": {},
   "outputs": [],
   "source": [
    "from sklearn.preprocessing import PolynomialFeatures"
   ]
  },
  {
   "cell_type": "code",
   "execution_count": 125,
   "metadata": {},
   "outputs": [],
   "source": [
    "poly_trans = PolynomialFeatures(degree=4)"
   ]
  },
  {
   "cell_type": "code",
   "execution_count": 126,
   "metadata": {},
   "outputs": [],
   "source": [
    "poly_cperAA = poly_trans.fit_transform(np.array(df_gavote['cperAA']).reshape(-1,1))"
   ]
  },
  {
   "cell_type": "code",
   "execution_count": 127,
   "metadata": {},
   "outputs": [],
   "source": [
    "plmodi = smf.ols(data = df_gavote, formula = 'relative_undercount~poly_cperAA+cpergore*rural+equip').fit()"
   ]
  },
  {
   "cell_type": "code",
   "execution_count": 128,
   "metadata": {},
   "outputs": [
    {
     "data": {
      "text/html": [
       "<table class=\"simpletable\">\n",
       "<caption>OLS Regression Results</caption>\n",
       "<tr>\n",
       "  <th>Dep. Variable:</th>    <td>relative_undercount</td> <th>  R-squared:         </th> <td>   0.173</td>\n",
       "</tr>\n",
       "<tr>\n",
       "  <th>Model:</th>                    <td>OLS</td>         <th>  Adj. R-squared:    </th> <td>   0.111</td>\n",
       "</tr>\n",
       "<tr>\n",
       "  <th>Method:</th>              <td>Least Squares</td>    <th>  F-statistic:       </th> <td>   2.788</td>\n",
       "</tr>\n",
       "<tr>\n",
       "  <th>Date:</th>              <td>Thu, 24 Mar 2022</td>   <th>  Prob (F-statistic):</th>  <td>0.00254</td>\n",
       "</tr>\n",
       "<tr>\n",
       "  <th>Time:</th>                  <td>05:40:44</td>       <th>  Log-Likelihood:    </th> <td>  376.71</td>\n",
       "</tr>\n",
       "<tr>\n",
       "  <th>No. Observations:</th>       <td>   159</td>        <th>  AIC:               </th> <td>  -729.4</td>\n",
       "</tr>\n",
       "<tr>\n",
       "  <th>Df Residuals:</th>           <td>   147</td>        <th>  BIC:               </th> <td>  -692.6</td>\n",
       "</tr>\n",
       "<tr>\n",
       "  <th>Df Model:</th>               <td>    11</td>        <th>                     </th>     <td> </td>   \n",
       "</tr>\n",
       "<tr>\n",
       "  <th>Covariance Type:</th>       <td>nonrobust</td>      <th>                     </th>     <td> </td>   \n",
       "</tr>\n",
       "</table>\n",
       "<table class=\"simpletable\">\n",
       "<tr>\n",
       "             <td></td>                <th>coef</th>     <th>std err</th>      <th>t</th>      <th>P>|t|</th>  <th>[0.025</th>    <th>0.975]</th>  \n",
       "</tr>\n",
       "<tr>\n",
       "  <th>Intercept</th>               <td>    0.0215</td> <td>    0.002</td> <td>   12.590</td> <td> 0.000</td> <td>    0.018</td> <td>    0.025</td>\n",
       "</tr>\n",
       "<tr>\n",
       "  <th>rural[T.urban]</th>          <td>   -0.0191</td> <td>    0.005</td> <td>   -4.035</td> <td> 0.000</td> <td>   -0.028</td> <td>   -0.010</td>\n",
       "</tr>\n",
       "<tr>\n",
       "  <th>equip[T.OS-CC]</th>          <td>    0.0064</td> <td>    0.005</td> <td>    1.364</td> <td> 0.175</td> <td>   -0.003</td> <td>    0.016</td>\n",
       "</tr>\n",
       "<tr>\n",
       "  <th>equip[T.OS-PC]</th>          <td>    0.0156</td> <td>    0.006</td> <td>    2.652</td> <td> 0.009</td> <td>    0.004</td> <td>    0.027</td>\n",
       "</tr>\n",
       "<tr>\n",
       "  <th>equip[T.PAPER]</th>          <td>   -0.0103</td> <td>    0.017</td> <td>   -0.597</td> <td> 0.551</td> <td>   -0.044</td> <td>    0.024</td>\n",
       "</tr>\n",
       "<tr>\n",
       "  <th>equip[T.PUNCH]</th>          <td>    0.0141</td> <td>    0.007</td> <td>    2.047</td> <td> 0.042</td> <td>    0.000</td> <td>    0.028</td>\n",
       "</tr>\n",
       "<tr>\n",
       "  <th>poly_cperAA[0]</th>          <td>    0.0215</td> <td>    0.002</td> <td>   12.590</td> <td> 0.000</td> <td>    0.018</td> <td>    0.025</td>\n",
       "</tr>\n",
       "<tr>\n",
       "  <th>poly_cperAA[1]</th>          <td>    0.0125</td> <td>    0.047</td> <td>    0.268</td> <td> 0.789</td> <td>   -0.079</td> <td>    0.104</td>\n",
       "</tr>\n",
       "<tr>\n",
       "  <th>poly_cperAA[2]</th>          <td>    0.0545</td> <td>    0.112</td> <td>    0.486</td> <td> 0.628</td> <td>   -0.167</td> <td>    0.276</td>\n",
       "</tr>\n",
       "<tr>\n",
       "  <th>poly_cperAA[3]</th>          <td>    0.3226</td> <td>    0.632</td> <td>    0.510</td> <td> 0.611</td> <td>   -0.927</td> <td>    1.572</td>\n",
       "</tr>\n",
       "<tr>\n",
       "  <th>poly_cperAA[4]</th>          <td>   -0.8860</td> <td>    1.298</td> <td>   -0.682</td> <td> 0.496</td> <td>   -3.452</td> <td>    1.680</td>\n",
       "</tr>\n",
       "<tr>\n",
       "  <th>cpergore</th>                <td>    0.0132</td> <td>    0.057</td> <td>    0.231</td> <td> 0.818</td> <td>   -0.099</td> <td>    0.126</td>\n",
       "</tr>\n",
       "<tr>\n",
       "  <th>cpergore:rural[T.urban]</th> <td>   -0.0105</td> <td>    0.041</td> <td>   -0.255</td> <td> 0.799</td> <td>   -0.092</td> <td>    0.071</td>\n",
       "</tr>\n",
       "</table>\n",
       "<table class=\"simpletable\">\n",
       "<tr>\n",
       "  <th>Omnibus:</th>       <td>68.711</td> <th>  Durbin-Watson:     </th> <td>   2.006</td>\n",
       "</tr>\n",
       "<tr>\n",
       "  <th>Prob(Omnibus):</th> <td> 0.000</td> <th>  Jarque-Bera (JB):  </th> <td> 327.174</td>\n",
       "</tr>\n",
       "<tr>\n",
       "  <th>Skew:</th>          <td> 1.528</td> <th>  Prob(JB):          </th> <td>9.02e-72</td>\n",
       "</tr>\n",
       "<tr>\n",
       "  <th>Kurtosis:</th>      <td> 9.328</td> <th>  Cond. No.          </th> <td>2.52e+16</td>\n",
       "</tr>\n",
       "</table><br/><br/>Notes:<br/>[1] Standard Errors assume that the covariance matrix of the errors is correctly specified.<br/>[2] The smallest eigenvalue is 5.49e-31. This might indicate that there are<br/>strong multicollinearity problems or that the design matrix is singular."
      ],
      "text/plain": [
       "<class 'statsmodels.iolib.summary.Summary'>\n",
       "\"\"\"\n",
       "                             OLS Regression Results                            \n",
       "===============================================================================\n",
       "Dep. Variable:     relative_undercount   R-squared:                       0.173\n",
       "Model:                             OLS   Adj. R-squared:                  0.111\n",
       "Method:                  Least Squares   F-statistic:                     2.788\n",
       "Date:                 Thu, 24 Mar 2022   Prob (F-statistic):            0.00254\n",
       "Time:                         05:40:44   Log-Likelihood:                 376.71\n",
       "No. Observations:                  159   AIC:                            -729.4\n",
       "Df Residuals:                      147   BIC:                            -692.6\n",
       "Df Model:                           11                                         \n",
       "Covariance Type:             nonrobust                                         \n",
       "===========================================================================================\n",
       "                              coef    std err          t      P>|t|      [0.025      0.975]\n",
       "-------------------------------------------------------------------------------------------\n",
       "Intercept                   0.0215      0.002     12.590      0.000       0.018       0.025\n",
       "rural[T.urban]             -0.0191      0.005     -4.035      0.000      -0.028      -0.010\n",
       "equip[T.OS-CC]              0.0064      0.005      1.364      0.175      -0.003       0.016\n",
       "equip[T.OS-PC]              0.0156      0.006      2.652      0.009       0.004       0.027\n",
       "equip[T.PAPER]             -0.0103      0.017     -0.597      0.551      -0.044       0.024\n",
       "equip[T.PUNCH]              0.0141      0.007      2.047      0.042       0.000       0.028\n",
       "poly_cperAA[0]              0.0215      0.002     12.590      0.000       0.018       0.025\n",
       "poly_cperAA[1]              0.0125      0.047      0.268      0.789      -0.079       0.104\n",
       "poly_cperAA[2]              0.0545      0.112      0.486      0.628      -0.167       0.276\n",
       "poly_cperAA[3]              0.3226      0.632      0.510      0.611      -0.927       1.572\n",
       "poly_cperAA[4]             -0.8860      1.298     -0.682      0.496      -3.452       1.680\n",
       "cpergore                    0.0132      0.057      0.231      0.818      -0.099       0.126\n",
       "cpergore:rural[T.urban]    -0.0105      0.041     -0.255      0.799      -0.092       0.071\n",
       "==============================================================================\n",
       "Omnibus:                       68.711   Durbin-Watson:                   2.006\n",
       "Prob(Omnibus):                  0.000   Jarque-Bera (JB):              327.174\n",
       "Skew:                           1.528   Prob(JB):                     9.02e-72\n",
       "Kurtosis:                       9.328   Cond. No.                     2.52e+16\n",
       "==============================================================================\n",
       "\n",
       "Notes:\n",
       "[1] Standard Errors assume that the covariance matrix of the errors is correctly specified.\n",
       "[2] The smallest eigenvalue is 5.49e-31. This might indicate that there are\n",
       "strong multicollinearity problems or that the design matrix is singular.\n",
       "\"\"\""
      ]
     },
     "execution_count": 128,
     "metadata": {},
     "output_type": "execute_result"
    }
   ],
   "source": [
    "plmodi.summary()"
   ]
  },
  {
   "attachments": {},
   "cell_type": "markdown",
   "metadata": {},
   "source": [
    "<h2> Variable selection: </h2>"
   ]
  },
  {
   "cell_type": "code",
   "execution_count": 133,
   "metadata": {},
   "outputs": [],
   "source": [
    "biglm = smf.ols(data=df_gavote, formula = '(relative_undercount ~ (equip+econ+rural+atlanta)**2+(equip+econ+rural+atlanta)*(perAA+pergore))').fit()"
   ]
  },
  {
   "cell_type": "code",
   "execution_count": 138,
   "metadata": {
    "scrolled": true
   },
   "outputs": [
    {
     "data": {
      "text/html": [
       "<table class=\"simpletable\">\n",
       "<caption>OLS Regression Results</caption>\n",
       "<tr>\n",
       "  <th>Dep. Variable:</th>    <td>relative_undercount</td> <th>  R-squared:         </th> <td>   0.504</td>\n",
       "</tr>\n",
       "<tr>\n",
       "  <th>Model:</th>                    <td>OLS</td>         <th>  Adj. R-squared:    </th> <td>   0.335</td>\n",
       "</tr>\n",
       "<tr>\n",
       "  <th>Method:</th>              <td>Least Squares</td>    <th>  F-statistic:       </th> <td>   2.994</td>\n",
       "</tr>\n",
       "<tr>\n",
       "  <th>Date:</th>              <td>Thu, 24 Mar 2022</td>   <th>  Prob (F-statistic):</th> <td>2.36e-06</td>\n",
       "</tr>\n",
       "<tr>\n",
       "  <th>Time:</th>                  <td>05:56:42</td>       <th>  Log-Likelihood:    </th> <td>  417.34</td>\n",
       "</tr>\n",
       "<tr>\n",
       "  <th>No. Observations:</th>       <td>   159</td>        <th>  AIC:               </th> <td>  -752.7</td>\n",
       "</tr>\n",
       "<tr>\n",
       "  <th>Df Residuals:</th>           <td>   118</td>        <th>  BIC:               </th> <td>  -626.9</td>\n",
       "</tr>\n",
       "<tr>\n",
       "  <th>Df Model:</th>               <td>    40</td>        <th>                     </th>     <td> </td>   \n",
       "</tr>\n",
       "<tr>\n",
       "  <th>Covariance Type:</th>       <td>nonrobust</td>      <th>                     </th>     <td> </td>   \n",
       "</tr>\n",
       "</table>\n",
       "<table class=\"simpletable\">\n",
       "<tr>\n",
       "                    <td></td>                      <th>coef</th>     <th>std err</th>      <th>t</th>      <th>P>|t|</th>  <th>[0.025</th>    <th>0.975]</th>  \n",
       "</tr>\n",
       "<tr>\n",
       "  <th>Intercept</th>                            <td>    0.0626</td> <td>    0.094</td> <td>    0.666</td> <td> 0.507</td> <td>   -0.124</td> <td>    0.249</td>\n",
       "</tr>\n",
       "<tr>\n",
       "  <th>equip[T.OS-CC]</th>                       <td>    0.0377</td> <td>    0.049</td> <td>    0.769</td> <td> 0.443</td> <td>   -0.059</td> <td>    0.135</td>\n",
       "</tr>\n",
       "<tr>\n",
       "  <th>equip[T.OS-PC]</th>                       <td>   -0.0733</td> <td>    0.055</td> <td>   -1.326</td> <td> 0.187</td> <td>   -0.183</td> <td>    0.036</td>\n",
       "</tr>\n",
       "<tr>\n",
       "  <th>equip[T.PAPER]</th>                       <td>   -0.0228</td> <td>    0.015</td> <td>   -1.500</td> <td> 0.136</td> <td>   -0.053</td> <td>    0.007</td>\n",
       "</tr>\n",
       "<tr>\n",
       "  <th>equip[T.PUNCH]</th>                       <td>   -0.0122</td> <td>    0.058</td> <td>   -0.212</td> <td> 0.832</td> <td>   -0.126</td> <td>    0.102</td>\n",
       "</tr>\n",
       "<tr>\n",
       "  <th>econ[T.poor]</th>                         <td>    0.0110</td> <td>    0.017</td> <td>    0.636</td> <td> 0.526</td> <td>   -0.023</td> <td>    0.045</td>\n",
       "</tr>\n",
       "<tr>\n",
       "  <th>econ[T.rich]</th>                         <td>   -0.0807</td> <td>    0.142</td> <td>   -0.568</td> <td> 0.571</td> <td>   -0.362</td> <td>    0.201</td>\n",
       "</tr>\n",
       "<tr>\n",
       "  <th>rural[T.urban]</th>                       <td>   -0.0048</td> <td>    0.053</td> <td>   -0.091</td> <td> 0.928</td> <td>   -0.110</td> <td>    0.100</td>\n",
       "</tr>\n",
       "<tr>\n",
       "  <th>atlanta[T.notAtlanta]</th>                <td>   -0.0312</td> <td>    0.091</td> <td>   -0.342</td> <td> 0.733</td> <td>   -0.212</td> <td>    0.149</td>\n",
       "</tr>\n",
       "<tr>\n",
       "  <th>equip[T.OS-CC]:econ[T.poor]</th>          <td>   -0.0113</td> <td>    0.011</td> <td>   -1.040</td> <td> 0.301</td> <td>   -0.033</td> <td>    0.010</td>\n",
       "</tr>\n",
       "<tr>\n",
       "  <th>equip[T.OS-PC]:econ[T.poor]</th>          <td>    0.0303</td> <td>    0.017</td> <td>    1.801</td> <td> 0.074</td> <td>   -0.003</td> <td>    0.064</td>\n",
       "</tr>\n",
       "<tr>\n",
       "  <th>equip[T.PAPER]:econ[T.poor]</th>          <td>   -0.0228</td> <td>    0.015</td> <td>   -1.500</td> <td> 0.136</td> <td>   -0.053</td> <td>    0.007</td>\n",
       "</tr>\n",
       "<tr>\n",
       "  <th>equip[T.PUNCH]:econ[T.poor]</th>          <td>    0.0139</td> <td>    0.032</td> <td>    0.435</td> <td> 0.664</td> <td>   -0.049</td> <td>    0.077</td>\n",
       "</tr>\n",
       "<tr>\n",
       "  <th>equip[T.OS-CC]:econ[T.rich]</th>          <td>    0.0152</td> <td>    0.040</td> <td>    0.384</td> <td> 0.701</td> <td>   -0.063</td> <td>    0.094</td>\n",
       "</tr>\n",
       "<tr>\n",
       "  <th>equip[T.OS-PC]:econ[T.rich]</th>          <td>    0.0239</td> <td>    0.030</td> <td>    0.808</td> <td> 0.421</td> <td>   -0.035</td> <td>    0.083</td>\n",
       "</tr>\n",
       "<tr>\n",
       "  <th>equip[T.PAPER]:econ[T.rich]</th>          <td> 2.317e-16</td> <td> 3.78e-16</td> <td>    0.613</td> <td> 0.541</td> <td>-5.17e-16</td> <td>  9.8e-16</td>\n",
       "</tr>\n",
       "<tr>\n",
       "  <th>equip[T.PUNCH]:econ[T.rich]</th>          <td>    0.0219</td> <td>    0.040</td> <td>    0.553</td> <td> 0.581</td> <td>   -0.056</td> <td>    0.100</td>\n",
       "</tr>\n",
       "<tr>\n",
       "  <th>equip[T.OS-CC]:rural[T.urban]</th>        <td>    0.0004</td> <td>    0.012</td> <td>    0.033</td> <td> 0.973</td> <td>   -0.024</td> <td>    0.024</td>\n",
       "</tr>\n",
       "<tr>\n",
       "  <th>equip[T.OS-PC]:rural[T.urban]</th>        <td>   -0.0114</td> <td>    0.017</td> <td>   -0.661</td> <td> 0.510</td> <td>   -0.046</td> <td>    0.023</td>\n",
       "</tr>\n",
       "<tr>\n",
       "  <th>equip[T.PAPER]:rural[T.urban]</th>        <td> 5.713e-17</td> <td> 5.16e-16</td> <td>    0.111</td> <td> 0.912</td> <td>-9.66e-16</td> <td> 1.08e-15</td>\n",
       "</tr>\n",
       "<tr>\n",
       "  <th>equip[T.PUNCH]:rural[T.urban]</th>        <td>    0.0399</td> <td>    0.028</td> <td>    1.432</td> <td> 0.155</td> <td>   -0.015</td> <td>    0.095</td>\n",
       "</tr>\n",
       "<tr>\n",
       "  <th>equip[T.OS-CC]:atlanta[T.notAtlanta]</th> <td>   -0.0496</td> <td>    0.040</td> <td>   -1.244</td> <td> 0.216</td> <td>   -0.128</td> <td>    0.029</td>\n",
       "</tr>\n",
       "<tr>\n",
       "  <th>equip[T.OS-PC]:atlanta[T.notAtlanta]</th> <td>   -0.0413</td> <td>    0.046</td> <td>   -0.901</td> <td> 0.369</td> <td>   -0.132</td> <td>    0.049</td>\n",
       "</tr>\n",
       "<tr>\n",
       "  <th>equip[T.PAPER]:atlanta[T.notAtlanta]</th> <td>   -0.0228</td> <td>    0.015</td> <td>   -1.500</td> <td> 0.136</td> <td>   -0.053</td> <td>    0.007</td>\n",
       "</tr>\n",
       "<tr>\n",
       "  <th>equip[T.PUNCH]:atlanta[T.notAtlanta]</th> <td>   -0.0507</td> <td>    0.040</td> <td>   -1.255</td> <td> 0.212</td> <td>   -0.131</td> <td>    0.029</td>\n",
       "</tr>\n",
       "<tr>\n",
       "  <th>econ[T.poor]:rural[T.urban]</th>          <td>   -0.0173</td> <td>    0.019</td> <td>   -0.895</td> <td> 0.372</td> <td>   -0.056</td> <td>    0.021</td>\n",
       "</tr>\n",
       "<tr>\n",
       "  <th>econ[T.rich]:rural[T.urban]</th>          <td>   -0.0007</td> <td>    0.029</td> <td>   -0.025</td> <td> 0.980</td> <td>   -0.057</td> <td>    0.056</td>\n",
       "</tr>\n",
       "<tr>\n",
       "  <th>econ[T.poor]:atlanta[T.notAtlanta]</th>   <td>    0.0110</td> <td>    0.017</td> <td>    0.636</td> <td> 0.526</td> <td>   -0.023</td> <td>    0.045</td>\n",
       "</tr>\n",
       "<tr>\n",
       "  <th>econ[T.rich]:atlanta[T.notAtlanta]</th>   <td>    0.0432</td> <td>    0.041</td> <td>    1.061</td> <td> 0.291</td> <td>   -0.037</td> <td>    0.124</td>\n",
       "</tr>\n",
       "<tr>\n",
       "  <th>rural[T.urban]:atlanta[T.notAtlanta]</th> <td>    0.0262</td> <td>    0.040</td> <td>    0.654</td> <td> 0.514</td> <td>   -0.053</td> <td>    0.105</td>\n",
       "</tr>\n",
       "<tr>\n",
       "  <th>perAA</th>                                <td>   -0.1594</td> <td>    0.368</td> <td>   -0.434</td> <td> 0.665</td> <td>   -0.887</td> <td>    0.569</td>\n",
       "</tr>\n",
       "<tr>\n",
       "  <th>equip[T.OS-CC]:perAA</th>                 <td>    0.1409</td> <td>    0.077</td> <td>    1.830</td> <td> 0.070</td> <td>   -0.012</td> <td>    0.293</td>\n",
       "</tr>\n",
       "<tr>\n",
       "  <th>equip[T.OS-PC]:perAA</th>                 <td>   -0.0434</td> <td>    0.087</td> <td>   -0.499</td> <td> 0.619</td> <td>   -0.216</td> <td>    0.129</td>\n",
       "</tr>\n",
       "<tr>\n",
       "  <th>equip[T.PAPER]:perAA</th>                 <td>    0.0790</td> <td>    0.055</td> <td>    1.430</td> <td> 0.155</td> <td>   -0.030</td> <td>    0.188</td>\n",
       "</tr>\n",
       "<tr>\n",
       "  <th>equip[T.PUNCH]:perAA</th>                 <td>    0.1206</td> <td>    0.174</td> <td>    0.692</td> <td> 0.490</td> <td>   -0.225</td> <td>    0.466</td>\n",
       "</tr>\n",
       "<tr>\n",
       "  <th>econ[T.poor]:perAA</th>                   <td>    0.0276</td> <td>    0.073</td> <td>    0.379</td> <td> 0.705</td> <td>   -0.116</td> <td>    0.172</td>\n",
       "</tr>\n",
       "<tr>\n",
       "  <th>econ[T.rich]:perAA</th>                   <td>    0.0793</td> <td>    0.239</td> <td>    0.331</td> <td> 0.741</td> <td>   -0.395</td> <td>    0.553</td>\n",
       "</tr>\n",
       "<tr>\n",
       "  <th>rural[T.urban]:perAA</th>                 <td>   -0.0060</td> <td>    0.099</td> <td>   -0.060</td> <td> 0.952</td> <td>   -0.203</td> <td>    0.191</td>\n",
       "</tr>\n",
       "<tr>\n",
       "  <th>atlanta[T.notAtlanta]:perAA</th>          <td>    0.0765</td> <td>    0.353</td> <td>    0.217</td> <td> 0.829</td> <td>   -0.622</td> <td>    0.775</td>\n",
       "</tr>\n",
       "<tr>\n",
       "  <th>pergore</th>                              <td>    0.0065</td> <td>    0.439</td> <td>    0.015</td> <td> 0.988</td> <td>   -0.863</td> <td>    0.876</td>\n",
       "</tr>\n",
       "<tr>\n",
       "  <th>equip[T.OS-CC]:pergore</th>               <td>   -0.0162</td> <td>    0.131</td> <td>   -0.123</td> <td> 0.902</td> <td>   -0.277</td> <td>    0.244</td>\n",
       "</tr>\n",
       "<tr>\n",
       "  <th>equip[T.OS-PC]:pergore</th>               <td>    0.3351</td> <td>    0.158</td> <td>    2.120</td> <td> 0.036</td> <td>    0.022</td> <td>    0.648</td>\n",
       "</tr>\n",
       "<tr>\n",
       "  <th>equip[T.PAPER]:pergore</th>               <td>    0.0541</td> <td>    0.038</td> <td>    1.417</td> <td> 0.159</td> <td>   -0.022</td> <td>    0.130</td>\n",
       "</tr>\n",
       "<tr>\n",
       "  <th>equip[T.PUNCH]:pergore</th>               <td>    0.0355</td> <td>    0.225</td> <td>    0.158</td> <td> 0.875</td> <td>   -0.410</td> <td>    0.481</td>\n",
       "</tr>\n",
       "<tr>\n",
       "  <th>econ[T.poor]:pergore</th>                 <td>   -0.0239</td> <td>    0.121</td> <td>   -0.199</td> <td> 0.843</td> <td>   -0.263</td> <td>    0.215</td>\n",
       "</tr>\n",
       "<tr>\n",
       "  <th>econ[T.rich]:pergore</th>                 <td>    0.0428</td> <td>    0.345</td> <td>    0.124</td> <td> 0.902</td> <td>   -0.640</td> <td>    0.726</td>\n",
       "</tr>\n",
       "<tr>\n",
       "  <th>rural[T.urban]:pergore</th>               <td>   -0.0761</td> <td>    0.148</td> <td>   -0.514</td> <td> 0.608</td> <td>   -0.369</td> <td>    0.217</td>\n",
       "</tr>\n",
       "<tr>\n",
       "  <th>atlanta[T.notAtlanta]:pergore</th>        <td>    0.0480</td> <td>    0.415</td> <td>    0.115</td> <td> 0.908</td> <td>   -0.774</td> <td>    0.870</td>\n",
       "</tr>\n",
       "</table>\n",
       "<table class=\"simpletable\">\n",
       "<tr>\n",
       "  <th>Omnibus:</th>       <td>11.706</td> <th>  Durbin-Watson:     </th> <td>   2.109</td>\n",
       "</tr>\n",
       "<tr>\n",
       "  <th>Prob(Omnibus):</th> <td> 0.003</td> <th>  Jarque-Bera (JB):  </th> <td>  26.754</td>\n",
       "</tr>\n",
       "<tr>\n",
       "  <th>Skew:</th>          <td> 0.192</td> <th>  Prob(JB):          </th> <td>1.55e-06</td>\n",
       "</tr>\n",
       "<tr>\n",
       "  <th>Kurtosis:</th>      <td> 4.972</td> <th>  Cond. No.          </th> <td>1.25e+16</td>\n",
       "</tr>\n",
       "</table><br/><br/>Notes:<br/>[1] Standard Errors assume that the covariance matrix of the errors is correctly specified.<br/>[2] The smallest eigenvalue is 3.31e-30. This might indicate that there are<br/>strong multicollinearity problems or that the design matrix is singular."
      ],
      "text/plain": [
       "<class 'statsmodels.iolib.summary.Summary'>\n",
       "\"\"\"\n",
       "                             OLS Regression Results                            \n",
       "===============================================================================\n",
       "Dep. Variable:     relative_undercount   R-squared:                       0.504\n",
       "Model:                             OLS   Adj. R-squared:                  0.335\n",
       "Method:                  Least Squares   F-statistic:                     2.994\n",
       "Date:                 Thu, 24 Mar 2022   Prob (F-statistic):           2.36e-06\n",
       "Time:                         05:56:42   Log-Likelihood:                 417.34\n",
       "No. Observations:                  159   AIC:                            -752.7\n",
       "Df Residuals:                      118   BIC:                            -626.9\n",
       "Df Model:                           40                                         \n",
       "Covariance Type:             nonrobust                                         \n",
       "========================================================================================================\n",
       "                                           coef    std err          t      P>|t|      [0.025      0.975]\n",
       "--------------------------------------------------------------------------------------------------------\n",
       "Intercept                                0.0626      0.094      0.666      0.507      -0.124       0.249\n",
       "equip[T.OS-CC]                           0.0377      0.049      0.769      0.443      -0.059       0.135\n",
       "equip[T.OS-PC]                          -0.0733      0.055     -1.326      0.187      -0.183       0.036\n",
       "equip[T.PAPER]                          -0.0228      0.015     -1.500      0.136      -0.053       0.007\n",
       "equip[T.PUNCH]                          -0.0122      0.058     -0.212      0.832      -0.126       0.102\n",
       "econ[T.poor]                             0.0110      0.017      0.636      0.526      -0.023       0.045\n",
       "econ[T.rich]                            -0.0807      0.142     -0.568      0.571      -0.362       0.201\n",
       "rural[T.urban]                          -0.0048      0.053     -0.091      0.928      -0.110       0.100\n",
       "atlanta[T.notAtlanta]                   -0.0312      0.091     -0.342      0.733      -0.212       0.149\n",
       "equip[T.OS-CC]:econ[T.poor]             -0.0113      0.011     -1.040      0.301      -0.033       0.010\n",
       "equip[T.OS-PC]:econ[T.poor]              0.0303      0.017      1.801      0.074      -0.003       0.064\n",
       "equip[T.PAPER]:econ[T.poor]             -0.0228      0.015     -1.500      0.136      -0.053       0.007\n",
       "equip[T.PUNCH]:econ[T.poor]              0.0139      0.032      0.435      0.664      -0.049       0.077\n",
       "equip[T.OS-CC]:econ[T.rich]              0.0152      0.040      0.384      0.701      -0.063       0.094\n",
       "equip[T.OS-PC]:econ[T.rich]              0.0239      0.030      0.808      0.421      -0.035       0.083\n",
       "equip[T.PAPER]:econ[T.rich]           2.317e-16   3.78e-16      0.613      0.541   -5.17e-16     9.8e-16\n",
       "equip[T.PUNCH]:econ[T.rich]              0.0219      0.040      0.553      0.581      -0.056       0.100\n",
       "equip[T.OS-CC]:rural[T.urban]            0.0004      0.012      0.033      0.973      -0.024       0.024\n",
       "equip[T.OS-PC]:rural[T.urban]           -0.0114      0.017     -0.661      0.510      -0.046       0.023\n",
       "equip[T.PAPER]:rural[T.urban]         5.713e-17   5.16e-16      0.111      0.912   -9.66e-16    1.08e-15\n",
       "equip[T.PUNCH]:rural[T.urban]            0.0399      0.028      1.432      0.155      -0.015       0.095\n",
       "equip[T.OS-CC]:atlanta[T.notAtlanta]    -0.0496      0.040     -1.244      0.216      -0.128       0.029\n",
       "equip[T.OS-PC]:atlanta[T.notAtlanta]    -0.0413      0.046     -0.901      0.369      -0.132       0.049\n",
       "equip[T.PAPER]:atlanta[T.notAtlanta]    -0.0228      0.015     -1.500      0.136      -0.053       0.007\n",
       "equip[T.PUNCH]:atlanta[T.notAtlanta]    -0.0507      0.040     -1.255      0.212      -0.131       0.029\n",
       "econ[T.poor]:rural[T.urban]             -0.0173      0.019     -0.895      0.372      -0.056       0.021\n",
       "econ[T.rich]:rural[T.urban]             -0.0007      0.029     -0.025      0.980      -0.057       0.056\n",
       "econ[T.poor]:atlanta[T.notAtlanta]       0.0110      0.017      0.636      0.526      -0.023       0.045\n",
       "econ[T.rich]:atlanta[T.notAtlanta]       0.0432      0.041      1.061      0.291      -0.037       0.124\n",
       "rural[T.urban]:atlanta[T.notAtlanta]     0.0262      0.040      0.654      0.514      -0.053       0.105\n",
       "perAA                                   -0.1594      0.368     -0.434      0.665      -0.887       0.569\n",
       "equip[T.OS-CC]:perAA                     0.1409      0.077      1.830      0.070      -0.012       0.293\n",
       "equip[T.OS-PC]:perAA                    -0.0434      0.087     -0.499      0.619      -0.216       0.129\n",
       "equip[T.PAPER]:perAA                     0.0790      0.055      1.430      0.155      -0.030       0.188\n",
       "equip[T.PUNCH]:perAA                     0.1206      0.174      0.692      0.490      -0.225       0.466\n",
       "econ[T.poor]:perAA                       0.0276      0.073      0.379      0.705      -0.116       0.172\n",
       "econ[T.rich]:perAA                       0.0793      0.239      0.331      0.741      -0.395       0.553\n",
       "rural[T.urban]:perAA                    -0.0060      0.099     -0.060      0.952      -0.203       0.191\n",
       "atlanta[T.notAtlanta]:perAA              0.0765      0.353      0.217      0.829      -0.622       0.775\n",
       "pergore                                  0.0065      0.439      0.015      0.988      -0.863       0.876\n",
       "equip[T.OS-CC]:pergore                  -0.0162      0.131     -0.123      0.902      -0.277       0.244\n",
       "equip[T.OS-PC]:pergore                   0.3351      0.158      2.120      0.036       0.022       0.648\n",
       "equip[T.PAPER]:pergore                   0.0541      0.038      1.417      0.159      -0.022       0.130\n",
       "equip[T.PUNCH]:pergore                   0.0355      0.225      0.158      0.875      -0.410       0.481\n",
       "econ[T.poor]:pergore                    -0.0239      0.121     -0.199      0.843      -0.263       0.215\n",
       "econ[T.rich]:pergore                     0.0428      0.345      0.124      0.902      -0.640       0.726\n",
       "rural[T.urban]:pergore                  -0.0761      0.148     -0.514      0.608      -0.369       0.217\n",
       "atlanta[T.notAtlanta]:pergore            0.0480      0.415      0.115      0.908      -0.774       0.870\n",
       "==============================================================================\n",
       "Omnibus:                       11.706   Durbin-Watson:                   2.109\n",
       "Prob(Omnibus):                  0.003   Jarque-Bera (JB):               26.754\n",
       "Skew:                           0.192   Prob(JB):                     1.55e-06\n",
       "Kurtosis:                       4.972   Cond. No.                     1.25e+16\n",
       "==============================================================================\n",
       "\n",
       "Notes:\n",
       "[1] Standard Errors assume that the covariance matrix of the errors is correctly specified.\n",
       "[2] The smallest eigenvalue is 3.31e-30. This might indicate that there are\n",
       "strong multicollinearity problems or that the design matrix is singular.\n",
       "\"\"\""
      ]
     },
     "execution_count": 138,
     "metadata": {},
     "output_type": "execute_result"
    }
   ],
   "source": [
    "biglm.summary()"
   ]
  },
  {
   "cell_type": "code",
   "execution_count": null,
   "metadata": {},
   "outputs": [],
   "source": []
  }
 ],
 "metadata": {
  "kernelspec": {
   "display_name": "Python 3",
   "language": "python",
   "name": "python3"
  },
  "language_info": {
   "codemirror_mode": {
    "name": "ipython",
    "version": 3
   },
   "file_extension": ".py",
   "mimetype": "text/x-python",
   "name": "python",
   "nbconvert_exporter": "python",
   "pygments_lexer": "ipython3",
   "version": "3.8.16"
  }
 },
 "nbformat": 4,
 "nbformat_minor": 4
}
