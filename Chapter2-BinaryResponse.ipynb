{
 "cells": [
  {
   "cell_type": "markdown",
   "metadata": {},
   "source": [
    "<h1>Page 25</h1>"
   ]
  },
  {
   "cell_type": "code",
   "execution_count": 2,
   "metadata": {},
   "outputs": [],
   "source": [
    "# Use this package to read .rda datasets\n",
    "import pyreadr # pip install pyreader"
   ]
  },
  {
   "cell_type": "code",
   "execution_count": 3,
   "metadata": {},
   "outputs": [],
   "source": [
    "# Reading a gavote dataset\n",
    "wcgs = pyreadr.read_r('data/wcgs.rda')['wcgs']"
   ]
  },
  {
   "cell_type": "code",
   "execution_count": 4,
   "metadata": {},
   "outputs": [
    {
     "data": {
      "text/html": [
       "<div>\n",
       "<style scoped>\n",
       "    .dataframe tbody tr th:only-of-type {\n",
       "        vertical-align: middle;\n",
       "    }\n",
       "\n",
       "    .dataframe tbody tr th {\n",
       "        vertical-align: top;\n",
       "    }\n",
       "\n",
       "    .dataframe thead th {\n",
       "        text-align: right;\n",
       "    }\n",
       "</style>\n",
       "<table border=\"1\" class=\"dataframe\">\n",
       "  <thead>\n",
       "    <tr style=\"text-align: right;\">\n",
       "      <th></th>\n",
       "      <th>age</th>\n",
       "      <th>height</th>\n",
       "      <th>weight</th>\n",
       "      <th>sdp</th>\n",
       "      <th>dbp</th>\n",
       "      <th>chol</th>\n",
       "      <th>behave</th>\n",
       "      <th>cigs</th>\n",
       "      <th>dibep</th>\n",
       "      <th>chd</th>\n",
       "      <th>typechd</th>\n",
       "      <th>timechd</th>\n",
       "      <th>arcus</th>\n",
       "    </tr>\n",
       "  </thead>\n",
       "  <tbody>\n",
       "    <tr>\n",
       "      <th>0</th>\n",
       "      <td>49</td>\n",
       "      <td>73</td>\n",
       "      <td>150</td>\n",
       "      <td>110</td>\n",
       "      <td>76</td>\n",
       "      <td>225</td>\n",
       "      <td>A2</td>\n",
       "      <td>25</td>\n",
       "      <td>A</td>\n",
       "      <td>no</td>\n",
       "      <td>none</td>\n",
       "      <td>1664</td>\n",
       "      <td>absent</td>\n",
       "    </tr>\n",
       "    <tr>\n",
       "      <th>1</th>\n",
       "      <td>42</td>\n",
       "      <td>70</td>\n",
       "      <td>160</td>\n",
       "      <td>154</td>\n",
       "      <td>84</td>\n",
       "      <td>177</td>\n",
       "      <td>A2</td>\n",
       "      <td>20</td>\n",
       "      <td>A</td>\n",
       "      <td>no</td>\n",
       "      <td>none</td>\n",
       "      <td>3071</td>\n",
       "      <td>present</td>\n",
       "    </tr>\n",
       "    <tr>\n",
       "      <th>2</th>\n",
       "      <td>42</td>\n",
       "      <td>69</td>\n",
       "      <td>160</td>\n",
       "      <td>110</td>\n",
       "      <td>78</td>\n",
       "      <td>181</td>\n",
       "      <td>B3</td>\n",
       "      <td>0</td>\n",
       "      <td>B</td>\n",
       "      <td>no</td>\n",
       "      <td>none</td>\n",
       "      <td>3071</td>\n",
       "      <td>absent</td>\n",
       "    </tr>\n",
       "    <tr>\n",
       "      <th>3</th>\n",
       "      <td>41</td>\n",
       "      <td>68</td>\n",
       "      <td>152</td>\n",
       "      <td>124</td>\n",
       "      <td>78</td>\n",
       "      <td>132</td>\n",
       "      <td>B4</td>\n",
       "      <td>20</td>\n",
       "      <td>B</td>\n",
       "      <td>no</td>\n",
       "      <td>none</td>\n",
       "      <td>3064</td>\n",
       "      <td>absent</td>\n",
       "    </tr>\n",
       "    <tr>\n",
       "      <th>4</th>\n",
       "      <td>59</td>\n",
       "      <td>70</td>\n",
       "      <td>150</td>\n",
       "      <td>144</td>\n",
       "      <td>86</td>\n",
       "      <td>255</td>\n",
       "      <td>B3</td>\n",
       "      <td>20</td>\n",
       "      <td>B</td>\n",
       "      <td>yes</td>\n",
       "      <td>infdeath</td>\n",
       "      <td>1885</td>\n",
       "      <td>present</td>\n",
       "    </tr>\n",
       "    <tr>\n",
       "      <th>...</th>\n",
       "      <td>...</td>\n",
       "      <td>...</td>\n",
       "      <td>...</td>\n",
       "      <td>...</td>\n",
       "      <td>...</td>\n",
       "      <td>...</td>\n",
       "      <td>...</td>\n",
       "      <td>...</td>\n",
       "      <td>...</td>\n",
       "      <td>...</td>\n",
       "      <td>...</td>\n",
       "      <td>...</td>\n",
       "      <td>...</td>\n",
       "    </tr>\n",
       "    <tr>\n",
       "      <th>3149</th>\n",
       "      <td>41</td>\n",
       "      <td>70</td>\n",
       "      <td>173</td>\n",
       "      <td>124</td>\n",
       "      <td>78</td>\n",
       "      <td>215</td>\n",
       "      <td>A2</td>\n",
       "      <td>0</td>\n",
       "      <td>A</td>\n",
       "      <td>no</td>\n",
       "      <td>none</td>\n",
       "      <td>3056</td>\n",
       "      <td>absent</td>\n",
       "    </tr>\n",
       "    <tr>\n",
       "      <th>3150</th>\n",
       "      <td>45</td>\n",
       "      <td>69</td>\n",
       "      <td>200</td>\n",
       "      <td>144</td>\n",
       "      <td>82</td>\n",
       "      <td>261</td>\n",
       "      <td>B3</td>\n",
       "      <td>0</td>\n",
       "      <td>B</td>\n",
       "      <td>no</td>\n",
       "      <td>none</td>\n",
       "      <td>3056</td>\n",
       "      <td>absent</td>\n",
       "    </tr>\n",
       "    <tr>\n",
       "      <th>3151</th>\n",
       "      <td>50</td>\n",
       "      <td>70</td>\n",
       "      <td>165</td>\n",
       "      <td>122</td>\n",
       "      <td>82</td>\n",
       "      <td>242</td>\n",
       "      <td>A2</td>\n",
       "      <td>50</td>\n",
       "      <td>A</td>\n",
       "      <td>no</td>\n",
       "      <td>none</td>\n",
       "      <td>2383</td>\n",
       "      <td>present</td>\n",
       "    </tr>\n",
       "    <tr>\n",
       "      <th>3152</th>\n",
       "      <td>39</td>\n",
       "      <td>68</td>\n",
       "      <td>168</td>\n",
       "      <td>126</td>\n",
       "      <td>76</td>\n",
       "      <td>213</td>\n",
       "      <td>B3</td>\n",
       "      <td>0</td>\n",
       "      <td>B</td>\n",
       "      <td>no</td>\n",
       "      <td>none</td>\n",
       "      <td>3053</td>\n",
       "      <td>absent</td>\n",
       "    </tr>\n",
       "    <tr>\n",
       "      <th>3153</th>\n",
       "      <td>39</td>\n",
       "      <td>67</td>\n",
       "      <td>155</td>\n",
       "      <td>150</td>\n",
       "      <td>88</td>\n",
       "      <td>264</td>\n",
       "      <td>A1</td>\n",
       "      <td>40</td>\n",
       "      <td>A</td>\n",
       "      <td>no</td>\n",
       "      <td>none</td>\n",
       "      <td>3055</td>\n",
       "      <td>absent</td>\n",
       "    </tr>\n",
       "  </tbody>\n",
       "</table>\n",
       "<p>3154 rows × 13 columns</p>\n",
       "</div>"
      ],
      "text/plain": [
       "      age  height  weight  sdp  dbp chol behave  cigs dibep  chd   typechd  \\\n",
       "0      49      73     150  110   76  225     A2    25     A   no      none   \n",
       "1      42      70     160  154   84  177     A2    20     A   no      none   \n",
       "2      42      69     160  110   78  181     B3     0     B   no      none   \n",
       "3      41      68     152  124   78  132     B4    20     B   no      none   \n",
       "4      59      70     150  144   86  255     B3    20     B  yes  infdeath   \n",
       "...   ...     ...     ...  ...  ...  ...    ...   ...   ...  ...       ...   \n",
       "3149   41      70     173  124   78  215     A2     0     A   no      none   \n",
       "3150   45      69     200  144   82  261     B3     0     B   no      none   \n",
       "3151   50      70     165  122   82  242     A2    50     A   no      none   \n",
       "3152   39      68     168  126   76  213     B3     0     B   no      none   \n",
       "3153   39      67     155  150   88  264     A1    40     A   no      none   \n",
       "\n",
       "      timechd    arcus  \n",
       "0        1664   absent  \n",
       "1        3071  present  \n",
       "2        3071   absent  \n",
       "3        3064   absent  \n",
       "4        1885  present  \n",
       "...       ...      ...  \n",
       "3149     3056   absent  \n",
       "3150     3056   absent  \n",
       "3151     2383  present  \n",
       "3152     3053   absent  \n",
       "3153     3055   absent  \n",
       "\n",
       "[3154 rows x 13 columns]"
      ]
     },
     "execution_count": 4,
     "metadata": {},
     "output_type": "execute_result"
    }
   ],
   "source": [
    "wcgs"
   ]
  },
  {
   "cell_type": "code",
   "execution_count": 5,
   "metadata": {},
   "outputs": [
    {
     "data": {
      "text/html": [
       "<div>\n",
       "<style scoped>\n",
       "    .dataframe tbody tr th:only-of-type {\n",
       "        vertical-align: middle;\n",
       "    }\n",
       "\n",
       "    .dataframe tbody tr th {\n",
       "        vertical-align: top;\n",
       "    }\n",
       "\n",
       "    .dataframe thead th {\n",
       "        text-align: right;\n",
       "    }\n",
       "</style>\n",
       "<table border=\"1\" class=\"dataframe\">\n",
       "  <thead>\n",
       "    <tr style=\"text-align: right;\">\n",
       "      <th></th>\n",
       "      <th>chd</th>\n",
       "      <th>height</th>\n",
       "      <th>cigs</th>\n",
       "    </tr>\n",
       "  </thead>\n",
       "  <tbody>\n",
       "    <tr>\n",
       "      <th>count</th>\n",
       "      <td>3154</td>\n",
       "      <td>3154.000000</td>\n",
       "      <td>3154.000000</td>\n",
       "    </tr>\n",
       "    <tr>\n",
       "      <th>unique</th>\n",
       "      <td>2</td>\n",
       "      <td>NaN</td>\n",
       "      <td>NaN</td>\n",
       "    </tr>\n",
       "    <tr>\n",
       "      <th>top</th>\n",
       "      <td>no</td>\n",
       "      <td>NaN</td>\n",
       "      <td>NaN</td>\n",
       "    </tr>\n",
       "    <tr>\n",
       "      <th>freq</th>\n",
       "      <td>2897</td>\n",
       "      <td>NaN</td>\n",
       "      <td>NaN</td>\n",
       "    </tr>\n",
       "    <tr>\n",
       "      <th>mean</th>\n",
       "      <td>NaN</td>\n",
       "      <td>69.777743</td>\n",
       "      <td>11.600507</td>\n",
       "    </tr>\n",
       "    <tr>\n",
       "      <th>std</th>\n",
       "      <td>NaN</td>\n",
       "      <td>2.528693</td>\n",
       "      <td>14.517579</td>\n",
       "    </tr>\n",
       "    <tr>\n",
       "      <th>min</th>\n",
       "      <td>NaN</td>\n",
       "      <td>60.000000</td>\n",
       "      <td>0.000000</td>\n",
       "    </tr>\n",
       "    <tr>\n",
       "      <th>25%</th>\n",
       "      <td>NaN</td>\n",
       "      <td>68.000000</td>\n",
       "      <td>0.000000</td>\n",
       "    </tr>\n",
       "    <tr>\n",
       "      <th>50%</th>\n",
       "      <td>NaN</td>\n",
       "      <td>70.000000</td>\n",
       "      <td>0.000000</td>\n",
       "    </tr>\n",
       "    <tr>\n",
       "      <th>75%</th>\n",
       "      <td>NaN</td>\n",
       "      <td>72.000000</td>\n",
       "      <td>20.000000</td>\n",
       "    </tr>\n",
       "    <tr>\n",
       "      <th>max</th>\n",
       "      <td>NaN</td>\n",
       "      <td>78.000000</td>\n",
       "      <td>99.000000</td>\n",
       "    </tr>\n",
       "  </tbody>\n",
       "</table>\n",
       "</div>"
      ],
      "text/plain": [
       "         chd       height         cigs\n",
       "count   3154  3154.000000  3154.000000\n",
       "unique     2          NaN          NaN\n",
       "top       no          NaN          NaN\n",
       "freq    2897          NaN          NaN\n",
       "mean     NaN    69.777743    11.600507\n",
       "std      NaN     2.528693    14.517579\n",
       "min      NaN    60.000000     0.000000\n",
       "25%      NaN    68.000000     0.000000\n",
       "50%      NaN    70.000000     0.000000\n",
       "75%      NaN    72.000000    20.000000\n",
       "max      NaN    78.000000    99.000000"
      ]
     },
     "execution_count": 5,
     "metadata": {},
     "output_type": "execute_result"
    }
   ],
   "source": [
    "# We start by focusing on just three of the variables in the dataset\n",
    "wcgs[['chd','height','cigs']].describe(include = 'all')"
   ]
  },
  {
   "cell_type": "code",
   "execution_count": 6,
   "metadata": {},
   "outputs": [],
   "source": [
    "# In this chapter we are going to use seaborn library to plot any chart\n",
    "import seaborn as sns \n"
   ]
  },
  {
   "cell_type": "code",
   "execution_count": 7,
   "metadata": {},
   "outputs": [
    {
     "data": {
      "image/png": "[encoded data removed]",
      "text/plain": [
       "<Figure size 640x480 with 1 Axes>"
      ]
     },
     "metadata": {},
     "output_type": "display_data"
    }
   ],
   "source": [
    "# Plot a boxplot - to show the similarity in the distribution of heights of the two groups of men with and without heart disease\n",
    "sns.boxplot(data=wcgs,\n",
    "            x ='chd',\n",
    "            y = 'height');"
   ]
  },
  {
   "cell_type": "code",
   "execution_count": 8,
   "metadata": {},
   "outputs": [],
   "source": [
    "# We convert the absence/presence of disease into a numerical 0/1 variable\n",
    "wcgs['y'] = wcgs['chd'].cat.codes\n",
    "        "
   ]
  },
  {
   "cell_type": "code",
   "execution_count": 9,
   "metadata": {},
   "outputs": [
    {
     "data": {
      "image/png": "[encoded data removed]",
      "text/plain": [
       "<Figure size 640x480 with 1 Axes>"
      ]
     },
     "metadata": {},
     "output_type": "display_data"
    }
   ],
   "source": [
    "# Plot a histograms - showing the distribution of heights for both those with and without heart disease\n",
    "sns.histplot(data=wcgs,\n",
    "            y ='y',\n",
    "            x = 'height');"
   ]
  },
  {
   "cell_type": "markdown",
   "metadata": {},
   "source": [
    "<h1> Page 26 </h1>"
   ]
  },
  {
   "cell_type": "code",
   "execution_count": 10,
   "metadata": {},
   "outputs": [
    {
     "data": {
      "image/png": "[encoded data removed]",
      "text/plain": [
       "<Figure size 640x480 with 1 Axes>"
      ]
     },
     "metadata": {},
     "output_type": "display_data"
    }
   ],
   "source": [
    "# Plot a histogram - Count height distribution usage for men with and without heart disease.\n",
    "sns.histplot(data=wcgs,\n",
    "             x = 'height',\n",
    "             hue = 'chd');"
   ]
  },
  {
   "cell_type": "code",
   "execution_count": 11,
   "metadata": {},
   "outputs": [
    {
     "data": {
      "image/png": "[encoded data removed]",
      "text/plain": [
       "<Figure size 640x480 with 1 Axes>"
      ]
     },
     "metadata": {},
     "output_type": "display_data"
    }
   ],
   "source": [
    "# Plot a histogram - Density cigarette distribution for men with and without heart disease.\n",
    "sns.histplot(data=wcgs,\n",
    "             x = 'cigs',\n",
    "             hue = 'chd',\n",
    "             stat='density');"
   ]
  },
  {
   "cell_type": "code",
   "execution_count": 12,
   "metadata": {},
   "outputs": [
    {
     "data": {
      "image/png": "[encoded data removed]",
      "text/plain": [
       "<Figure size 1080x300 with 2 Axes>"
      ]
     },
     "metadata": {},
     "output_type": "display_data"
    }
   ],
   "source": [
    "# Stripplot - Height and cigarette consumption for men without heart disease on the left and with heart diseas on the right.\n",
    "sns.FacetGrid(data=wcgs,\n",
    "              col='chd',\n",
    "              aspect=1.8).map(\n",
    "                  sns.stripplot, \n",
    "                  \"height\", \n",
    "                  \"cigs\", \n",
    "                  jitter=True, \n",
    "                  alpha=0.2,\n",
    "                  order = None);"
   ]
  },
  {
   "cell_type": "markdown",
   "metadata": {},
   "source": [
    "<h1>Page 28 </h1>"
   ]
  },
  {
   "cell_type": "code",
   "execution_count": 13,
   "metadata": {},
   "outputs": [
    {
     "data": {
      "image/png": "[encoded data removed]",
      "text/plain": [
       "<Figure size 640x480 with 1 Axes>"
      ]
     },
     "metadata": {},
     "output_type": "display_data"
    }
   ],
   "source": [
    "# A Logistic relationship between the probability of the response, p, and the linear predictor, n\n",
    "import numpy as np\n",
    "import matplotlib.pyplot as plt\n",
    "from scipy.special import expit  # expit is the logistic function\n",
    "\n",
    "# Define the range for x\n",
    "x = np.linspace(-6, 6, 400)\n",
    "\n",
    "# Calculate the logistic function values\n",
    "y = expit(x)\n",
    "\n",
    "# Create the plot\n",
    "plt.plot(x,y)\n",
    "plt.xlabel(\"$\\eta$\")\n",
    "plt.ylabel(\"p\");"
   ]
  },
  {
   "cell_type": "markdown",
   "metadata": {},
   "source": [
    "<h1>Page 29 </h1>"
   ]
  },
  {
   "cell_type": "code",
   "execution_count": 14,
   "metadata": {},
   "outputs": [
    {
     "name": "stdout",
     "output_type": "stream",
     "text": [
      "Optimization terminated successfully.\n",
      "         Current function value: 0.277275\n",
      "         Iterations 7\n"
     ]
    }
   ],
   "source": [
    "# The Generalized Linear Model (GLM) with the binomial link function\n",
    "import statsmodels.formula.api as smf\n",
    "\n",
    "lmod = smf.logit(data = wcgs,\n",
    "           formula = \"y~height+cigs\").fit();"
   ]
  },
  {
   "cell_type": "code",
   "execution_count": 15,
   "metadata": {},
   "outputs": [
    {
     "data": {
      "text/html": [
       "<table class=\"simpletable\">\n",
       "<caption>Logit Regression Results</caption>\n",
       "<tr>\n",
       "  <th>Dep. Variable:</th>           <td>y</td>        <th>  No. Observations:  </th>  <td>  3154</td>  \n",
       "</tr>\n",
       "<tr>\n",
       "  <th>Model:</th>                 <td>Logit</td>      <th>  Df Residuals:      </th>  <td>  3151</td>  \n",
       "</tr>\n",
       "<tr>\n",
       "  <th>Method:</th>                 <td>MLE</td>       <th>  Df Model:          </th>  <td>     2</td>  \n",
       "</tr>\n",
       "<tr>\n",
       "  <th>Date:</th>            <td>Tue, 11 Jun 2024</td> <th>  Pseudo R-squ.:     </th>  <td>0.01807</td> \n",
       "</tr>\n",
       "<tr>\n",
       "  <th>Time:</th>                <td>19:50:27</td>     <th>  Log-Likelihood:    </th> <td> -874.52</td> \n",
       "</tr>\n",
       "<tr>\n",
       "  <th>converged:</th>             <td>True</td>       <th>  LL-Null:           </th> <td> -890.62</td> \n",
       "</tr>\n",
       "<tr>\n",
       "  <th>Covariance Type:</th>     <td>nonrobust</td>    <th>  LLR p-value:       </th> <td>1.021e-07</td>\n",
       "</tr>\n",
       "</table>\n",
       "<table class=\"simpletable\">\n",
       "<tr>\n",
       "      <td></td>         <th>coef</th>     <th>std err</th>      <th>z</th>      <th>P>|z|</th>  <th>[0.025</th>    <th>0.975]</th>  \n",
       "</tr>\n",
       "<tr>\n",
       "  <th>Intercept</th> <td>   -4.5016</td> <td>    1.842</td> <td>   -2.444</td> <td> 0.015</td> <td>   -8.112</td> <td>   -0.892</td>\n",
       "</tr>\n",
       "<tr>\n",
       "  <th>height</th>    <td>    0.0252</td> <td>    0.026</td> <td>    0.957</td> <td> 0.338</td> <td>   -0.026</td> <td>    0.077</td>\n",
       "</tr>\n",
       "<tr>\n",
       "  <th>cigs</th>      <td>    0.0231</td> <td>    0.004</td> <td>    5.724</td> <td> 0.000</td> <td>    0.015</td> <td>    0.031</td>\n",
       "</tr>\n",
       "</table>"
      ],
      "text/latex": [
       "\\begin{center}\n",
       "\\begin{tabular}{lclc}\n",
       "\\toprule\n",
       "\\textbf{Dep. Variable:}   &        y         & \\textbf{  No. Observations:  } &     3154    \\\\\n",
       "\\textbf{Model:}           &      Logit       & \\textbf{  Df Residuals:      } &     3151    \\\\\n",
       "\\textbf{Method:}          &       MLE        & \\textbf{  Df Model:          } &        2    \\\\\n",
       "\\textbf{Date:}            & Tue, 11 Jun 2024 & \\textbf{  Pseudo R-squ.:     } &  0.01807    \\\\\n",
       "\\textbf{Time:}            &     19:50:27     & \\textbf{  Log-Likelihood:    } &   -874.52   \\\\\n",
       "\\textbf{converged:}       &       True       & \\textbf{  LL-Null:           } &   -890.62   \\\\\n",
       "\\textbf{Covariance Type:} &    nonrobust     & \\textbf{  LLR p-value:       } & 1.021e-07   \\\\\n",
       "\\bottomrule\n",
       "\\end{tabular}\n",
       "\\begin{tabular}{lcccccc}\n",
       "                   & \\textbf{coef} & \\textbf{std err} & \\textbf{z} & \\textbf{P$> |$z$|$} & \\textbf{[0.025} & \\textbf{0.975]}  \\\\\n",
       "\\midrule\n",
       "\\textbf{Intercept} &      -4.5016  &        1.842     &    -2.444  &         0.015        &       -8.112    &       -0.892     \\\\\n",
       "\\textbf{height}    &       0.0252  &        0.026     &     0.957  &         0.338        &       -0.026    &        0.077     \\\\\n",
       "\\textbf{cigs}      &       0.0231  &        0.004     &     5.724  &         0.000        &        0.015    &        0.031     \\\\\n",
       "\\bottomrule\n",
       "\\end{tabular}\n",
       "%\\caption{Logit Regression Results}\n",
       "\\end{center}"
      ],
      "text/plain": [
       "<class 'statsmodels.iolib.summary.Summary'>\n",
       "\"\"\"\n",
       "                           Logit Regression Results                           \n",
       "==============================================================================\n",
       "Dep. Variable:                      y   No. Observations:                 3154\n",
       "Model:                          Logit   Df Residuals:                     3151\n",
       "Method:                           MLE   Df Model:                            2\n",
       "Date:                Tue, 11 Jun 2024   Pseudo R-squ.:                 0.01807\n",
       "Time:                        19:50:27   Log-Likelihood:                -874.52\n",
       "converged:                       True   LL-Null:                       -890.62\n",
       "Covariance Type:            nonrobust   LLR p-value:                 1.021e-07\n",
       "==============================================================================\n",
       "                 coef    std err          z      P>|z|      [0.025      0.975]\n",
       "------------------------------------------------------------------------------\n",
       "Intercept     -4.5016      1.842     -2.444      0.015      -8.112      -0.892\n",
       "height         0.0252      0.026      0.957      0.338      -0.026       0.077\n",
       "cigs           0.0231      0.004      5.724      0.000       0.015       0.031\n",
       "==============================================================================\n",
       "\"\"\""
      ]
     },
     "execution_count": 15,
     "metadata": {},
     "output_type": "execute_result"
    }
   ],
   "source": [
    "# We can examine the standard summary output\n",
    "lmod.summary()"
   ]
  },
  {
   "cell_type": "markdown",
   "metadata": {},
   "source": [
    "<h1>Page 30 </h1>"
   ]
  },
  {
   "cell_type": "code",
   "execution_count": 16,
   "metadata": {},
   "outputs": [
    {
     "data": {
      "text/plain": [
       "Intercept   -4.501614\n",
       "height       0.025208\n",
       "cigs         0.023127\n",
       "dtype: float64"
      ]
     },
     "execution_count": 16,
     "metadata": {},
     "output_type": "execute_result"
    }
   ],
   "source": [
    "# Extract the coefficients\n",
    "lmod.params"
   ]
  },
  {
   "cell_type": "code",
   "execution_count": 17,
   "metadata": {},
   "outputs": [],
   "source": [
    "beta1 = lmod.params.Intercept\n",
    "beta2 = lmod.params.height\n",
    "beta3 = lmod.params.cigs"
   ]
  },
  {
   "cell_type": "code",
   "execution_count": 18,
   "metadata": {},
   "outputs": [
    {
     "data": {
      "image/png": "[encoded data removed]",
      "text/plain": [
       "<Figure size 640x480 with 1 Axes>"
      ]
     },
     "metadata": {},
     "output_type": "display_data"
    }
   ],
   "source": [
    "# Height\n",
    "x = wcgs['height']\n",
    "\n",
    "# Vary the height for the nonsmokers\n",
    "nonsmokers = beta1+beta2*x+beta3*0 \n",
    "\n",
    "# Vary the height for the 20 day smokers\n",
    "smokers = beta1+beta2*x+beta3*20\n",
    "\n",
    "# Solid line represent nonsmokers\n",
    "sns.lineplot(x = x,\n",
    "             y = expit(nonsmokers))\n",
    "# Dashed line ia pack-a-day smoker\n",
    "sns.lineplot(x = x,\n",
    "             y = expit(smokers), \n",
    "             linestyle='--')\n",
    "# Plot a histograms - showing the distribution of heights for both those with and without heart disease\n",
    "sns.histplot(data=wcgs,\n",
    "            y ='y',\n",
    "            x = 'height')\n",
    "plt.xlabel(\"Height\")\n",
    "plt.ylabel(\"Heart Disease\");\n"
   ]
  },
  {
   "cell_type": "code",
   "execution_count": 19,
   "metadata": {},
   "outputs": [
    {
     "data": {
      "image/png": "[encoded data removed]",
      "text/plain": [
       "<Figure size 640x480 with 1 Axes>"
      ]
     },
     "metadata": {},
     "output_type": "display_data"
    }
   ],
   "source": [
    "# Cigarette\n",
    "x = wcgs['cigs']\n",
    "\n",
    "# Vary the cigarette for the 60 inch tall man\n",
    "short_man = beta1+beta2*60+beta3*x\n",
    "\n",
    "# Vary the cigarette for the 78 inch tall man\n",
    "tall_man = beta1+beta2*78+beta3*x\n",
    "\n",
    "# Solid line represent a very short man (60 in. tall)\n",
    "sns.lineplot(x = x,\n",
    "             y = expit(short_man))\n",
    "# Dashed line a very tall man (78 in. tall)\n",
    "sns.lineplot(x = x,\n",
    "             y = expit(tall_man), \n",
    "             linestyle='--')\n",
    "# Plot a histograms - showing the distribution of heights for both those with and without heart disease\n",
    "sns.histplot(data=wcgs,\n",
    "            y ='y',\n",
    "            x = 'cigs')\n",
    "plt.xlabel(\"Cigarette Use\")\n",
    "plt.ylabel(\"Heart Disease\");\n"
   ]
  },
  {
   "cell_type": "markdown",
   "metadata": {},
   "source": [
    "<h1>Page 32</h1>"
   ]
  },
  {
   "cell_type": "code",
   "execution_count": 20,
   "metadata": {},
   "outputs": [],
   "source": [
    "# Interpreting Odds"
   ]
  },
  {
   "cell_type": "code",
   "execution_count": 21,
   "metadata": {},
   "outputs": [
    {
     "data": {
      "text/plain": [
       "Intercept    0.011091\n",
       "height       1.025528\n",
       "cigs         1.023397\n",
       "dtype: float64"
      ]
     },
     "execution_count": 21,
     "metadata": {},
     "output_type": "execute_result"
    }
   ],
   "source": [
    "# Exponentiated coefficients\n",
    "np.exp(lmod.params)"
   ]
  },
  {
   "cell_type": "code",
   "execution_count": 22,
   "metadata": {},
   "outputs": [
    {
     "data": {
      "text/plain": [
       "1.5881152900690745"
      ]
     },
     "execution_count": 22,
     "metadata": {},
     "output_type": "execute_result"
    }
   ],
   "source": [
    "# Compute the effect of a pack a day (20 cigarettes)\n",
    "np.exp(beta3*20)"
   ]
  },
  {
   "cell_type": "code",
   "execution_count": 23,
   "metadata": {},
   "outputs": [
    {
     "data": {
      "text/plain": [
       "array([0.08907868, 0.05800425])"
      ]
     },
     "execution_count": 23,
     "metadata": {},
     "output_type": "execute_result"
    }
   ],
   "source": [
    "# The predicted probabilities of getting heart disease for a 68in. tall man who does not smoke and who smokes 20 a day\n",
    "expit((beta1+beta2*68+beta3*20,beta1+beta2*68+beta3*0))"
   ]
  },
  {
   "cell_type": "code",
   "execution_count": 24,
   "metadata": {},
   "outputs": [
    {
     "data": {
      "text/plain": [
       "1.5357267534451848"
      ]
     },
     "execution_count": 24,
     "metadata": {},
     "output_type": "execute_result"
    }
   ],
   "source": [
    "# The relative risk is then:\n",
    "expit(beta1+beta2*68+beta3*20)/expit(beta1+beta2*68+beta3*0)"
   ]
  },
  {
   "cell_type": "markdown",
   "metadata": {},
   "source": [
    "<h1> Page 33 </h1>"
   ]
  },
  {
   "cell_type": "code",
   "execution_count": 25,
   "metadata": {},
   "outputs": [],
   "source": [
    "# Inference"
   ]
  },
  {
   "cell_type": "code",
   "execution_count": 26,
   "metadata": {},
   "outputs": [
    {
     "name": "stdout",
     "output_type": "stream",
     "text": [
      "Optimization terminated successfully.\n",
      "         Current function value: 0.277421\n",
      "         Iterations 7\n"
     ]
    }
   ],
   "source": [
    "lmodc = smf.logit(data=wcgs,\n",
    "                formula=\"y~cigs\").fit()"
   ]
  },
  {
   "cell_type": "code",
   "execution_count": 27,
   "metadata": {},
   "outputs": [],
   "source": [
    "# anova_lm is used to compare the two models. The typ=1 argument specifies the type of sum of squares to be used in the ANOVA\n",
    "from statsmodels.stats.anova import anova_lm"
   ]
  },
  {
   "cell_type": "code",
   "execution_count": 28,
   "metadata": {},
   "outputs": [],
   "source": [
    "# The p-value is computed using the chi-squared distribution's survival function \n",
    "from scipy.stats import chi2"
   ]
  },
  {
   "cell_type": "code",
   "execution_count": 29,
   "metadata": {},
   "outputs": [],
   "source": [
    "import pandas as pd"
   ]
  },
  {
   "cell_type": "code",
   "execution_count": 30,
   "metadata": {},
   "outputs": [
    {
     "name": "stdout",
     "output_type": "stream",
     "text": [
      "   Resid. Df   Resid. Dev   Df  Deviance  p-value\n",
      "0     3152.0  1749.969480  NaN       NaN      NaN\n",
      "1     3151.0  1749.049233  1.0  0.920247  0.33741\n"
     ]
    }
   ],
   "source": [
    "# Calculate the likelihood ratio test statistic (deviance)\n",
    "lr_statistic = 2 * (lmod.llf - lmodc.llf)\n",
    "df_diff = lmod.df_model - lmodc.df_model\n",
    "p_value = chi2.sf(lr_statistic, df_diff)\n",
    "\n",
    "# Residual degrees of freedom\n",
    "resid_df_c = lmodc.df_resid\n",
    "resid_df_f = lmod.df_resid\n",
    "\n",
    "# Residual deviance\n",
    "resid_dev_c = -2 * lmodc.llf\n",
    "resid_dev_f = -2 * lmod.llf\n",
    "\n",
    "# Create the analysis of deviance table\n",
    "deviance_table = pd.DataFrame({\n",
    "    'Resid. Df': [resid_df_c, resid_df_f],\n",
    "    'Resid. Dev': [resid_dev_c, resid_dev_f],\n",
    "    'Df': [None, df_diff],\n",
    "    'Deviance': [None, lr_statistic],\n",
    "    'p-value': [None, p_value]\n",
    "})\n",
    "# Display the table\n",
    "print(deviance_table)"
   ]
  },
  {
   "cell_type": "markdown",
   "metadata": {},
   "source": [
    "<h1>Page 34</h1>"
   ]
  },
  {
   "cell_type": "code",
   "execution_count": 41,
   "metadata": {},
   "outputs": [
    {
     "data": {
      "text/html": [
       "<div>\n",
       "<style scoped>\n",
       "    .dataframe tbody tr th:only-of-type {\n",
       "        vertical-align: middle;\n",
       "    }\n",
       "\n",
       "    .dataframe tbody tr th {\n",
       "        vertical-align: top;\n",
       "    }\n",
       "\n",
       "    .dataframe thead th {\n",
       "        text-align: right;\n",
       "    }\n",
       "</style>\n",
       "<table border=\"1\" class=\"dataframe\">\n",
       "  <thead>\n",
       "    <tr style=\"text-align: right;\">\n",
       "      <th></th>\n",
       "      <th>Predictor</th>\n",
       "      <th>Df</th>\n",
       "      <th>Deviance</th>\n",
       "      <th>AIC</th>\n",
       "      <th>LRT</th>\n",
       "      <th>p-value</th>\n",
       "    </tr>\n",
       "  </thead>\n",
       "  <tbody>\n",
       "    <tr>\n",
       "      <th>0</th>\n",
       "      <td>height</td>\n",
       "      <td>1.0</td>\n",
       "      <td>1749.969480</td>\n",
       "      <td>1753.969480</td>\n",
       "      <td>0.920247</td>\n",
       "      <td>3.374101e-01</td>\n",
       "    </tr>\n",
       "    <tr>\n",
       "      <th>1</th>\n",
       "      <td>cigs</td>\n",
       "      <td>1.0</td>\n",
       "      <td>1780.118737</td>\n",
       "      <td>1784.118737</td>\n",
       "      <td>31.069504</td>\n",
       "      <td>2.489521e-08</td>\n",
       "    </tr>\n",
       "  </tbody>\n",
       "</table>\n",
       "</div>"
      ],
      "text/plain": [
       "  Predictor   Df     Deviance          AIC        LRT       p-value\n",
       "0    height  1.0  1749.969480  1753.969480   0.920247  3.374101e-01\n",
       "1      cigs  1.0  1780.118737  1784.118737  31.069504  2.489521e-08"
      ]
     },
     "execution_count": 41,
     "metadata": {},
     "output_type": "execute_result"
    }
   ],
   "source": [
    "# Function to perform single term deletions (drop1 equivalent)\n",
    "def drop1_test(model, data):\n",
    "    full_model_llf = model.llf\n",
    "    full_model_df = model.df_model\n",
    "    \n",
    "    results = []\n",
    "    predictors = model.model.exog_names[1:]  # Exclude the intercept\n",
    "    \n",
    "    for predictor in predictors:\n",
    "        formula = 'y ~ ' + ' + '.join([p for p in predictors if p != predictor])\n",
    "        reduced_model = smf.logit(formula=formula, data=data).fit(disp=0)\n",
    "        \n",
    "        lr_statistic = 2 * (full_model_llf - reduced_model.llf)\n",
    "        df_diff = full_model_df - reduced_model.df_model\n",
    "        p_value = chi2.sf(lr_statistic, df_diff)\n",
    "        \n",
    "        results.append({\n",
    "            'Predictor': predictor,\n",
    "            'Df': reduced_model.df_model,\n",
    "            'Deviance': -2 * reduced_model.llf,\n",
    "            'AIC': reduced_model.aic,\n",
    "            'LRT': lr_statistic,\n",
    "            'p-value': p_value\n",
    "        })\n",
    "    \n",
    "    return pd.DataFrame(results)\n",
    "\n",
    "# Perform the single term deletions test\n",
    "drop1_results = drop1_test(lmod, wcgs)\n",
    "\n",
    "# Display results\n",
    "drop1_results"
   ]
  },
  {
   "cell_type": "code",
   "execution_count": 69,
   "metadata": {},
   "outputs": [
    {
     "data": {
      "text/html": [
       "<table class=\"simpletable\">\n",
       "<tr>\n",
       "      <td></td>         <th>coef</th>     <th>std err</th>      <th>z</th>      <th>P>|z|</th>  <th>[0.025</th>    <th>0.975]</th>  \n",
       "</tr>\n",
       "<tr>\n",
       "  <th>Intercept</th> <td>   -4.5016</td> <td>    1.842</td> <td>   -2.444</td> <td> 0.015</td> <td>   -8.112</td> <td>   -0.892</td>\n",
       "</tr>\n",
       "<tr>\n",
       "  <th>height</th>    <td>    0.0252</td> <td>    0.026</td> <td>    0.957</td> <td> 0.338</td> <td>   -0.026</td> <td>    0.077</td>\n",
       "</tr>\n",
       "<tr>\n",
       "  <th>cigs</th>      <td>    0.0231</td> <td>    0.004</td> <td>    5.724</td> <td> 0.000</td> <td>    0.015</td> <td>    0.031</td>\n",
       "</tr>\n",
       "</table>"
      ],
      "text/latex": [
       "\\begin{center}\n",
       "\\begin{tabular}{lcccccc}\n",
       "\\toprule\n",
       "                   & \\textbf{coef} & \\textbf{std err} & \\textbf{z} & \\textbf{P$> |$z$|$} & \\textbf{[0.025} & \\textbf{0.975]}  \\\\\n",
       "\\midrule\n",
       "\\textbf{Intercept} &      -4.5016  &        1.842     &    -2.444  &         0.015        &       -8.112    &       -0.892     \\\\\n",
       "\\textbf{height}    &       0.0252  &        0.026     &     0.957  &         0.338        &       -0.026    &        0.077     \\\\\n",
       "\\textbf{cigs}      &       0.0231  &        0.004     &     5.724  &         0.000        &        0.015    &        0.031     \\\\\n",
       "\\bottomrule\n",
       "\\end{tabular}\n",
       "\\end{center}"
      ],
      "text/plain": [
       "<class 'statsmodels.iolib.table.SimpleTable'>"
      ]
     },
     "execution_count": 69,
     "metadata": {},
     "output_type": "execute_result"
    }
   ],
   "source": [
    "# An alternative to this test is the z-value, which is appoximately normmally distributed.\n",
    "# This table include the likelihood-based confident interval\n",
    "lmod.summary().tables[1]"
   ]
  },
  {
   "cell_type": "markdown",
   "metadata": {},
   "source": [
    "<h1>Page 35</h1>"
   ]
  },
  {
   "cell_type": "code",
   "execution_count": 70,
   "metadata": {},
   "outputs": [],
   "source": [
    "# Diagnostics"
   ]
  },
  {
   "cell_type": "code",
   "execution_count": 89,
   "metadata": {},
   "outputs": [],
   "source": [
    "# The predicted values in the linear predictor scale\n",
    "linpred = lmod.fittedvalues[:6]"
   ]
  },
  {
   "cell_type": "code",
   "execution_count": 90,
   "metadata": {},
   "outputs": [],
   "source": [
    "# The predicted probability\n",
    "predprob = lmod.predict()"
   ]
  },
  {
   "cell_type": "code",
   "execution_count": 91,
   "metadata": {},
   "outputs": [
    {
     "data": {
      "text/plain": [
       "0   -2.083261\n",
       "1   -2.274521\n",
       "2   -2.762277\n",
       "3   -2.324936\n",
       "4   -2.274521\n",
       "5   -2.686653\n",
       "dtype: float64"
      ]
     },
     "execution_count": 91,
     "metadata": {},
     "output_type": "execute_result"
    }
   ],
   "source": [
    "linpred"
   ]
  },
  {
   "cell_type": "code",
   "execution_count": 92,
   "metadata": {},
   "outputs": [
    {
     "data": {
      "text/plain": [
       "array([0.11073449, 0.09325523, 0.05939705, ..., 0.17069652, 0.05800425,\n",
       "       0.13151878])"
      ]
     },
     "execution_count": 92,
     "metadata": {},
     "output_type": "execute_result"
    }
   ],
   "source": [
    "predprob"
   ]
  },
  {
   "cell_type": "code",
   "execution_count": 93,
   "metadata": {},
   "outputs": [
    {
     "data": {
      "text/plain": [
       "0    0.110734\n",
       "1    0.093255\n",
       "2    0.059397\n",
       "3    0.089079\n",
       "4    0.093255\n",
       "5    0.063766\n",
       "dtype: float64"
      ]
     },
     "execution_count": 93,
     "metadata": {},
     "output_type": "execute_result"
    }
   ],
   "source": [
    "expit(linpred)"
   ]
  },
  {
   "cell_type": "code",
   "execution_count": 97,
   "metadata": {},
   "outputs": [],
   "source": [
    "# Compute the raw residuals as y-p:\n",
    "# This is the same as lmod.resid_generalized\n",
    "rawres = wcgs['y']-predprob"
   ]
  },
  {
   "cell_type": "code",
   "execution_count": 106,
   "metadata": {},
   "outputs": [],
   "source": [
    "# The following standard practice for diagnotics in linear models, we plot the residuals againts the fitted values"
   ]
  },
  {
   "cell_type": "code",
   "execution_count": 114,
   "metadata": {},
   "outputs": [
    {
     "data": {
      "image/png": "[encoded data removed]",
      "text/plain": [
       "<Figure size 640x480 with 1 Axes>"
      ]
     },
     "metadata": {},
     "output_type": "display_data"
    }
   ],
   "source": [
    "sns.scatterplot(x = lmod.fittedvalues,\n",
    "                y = lmod.resid_generalized)\n",
    "plt.xlabel(\"linear predictor\")\n",
    "plt.ylabel(\"residuals\");"
   ]
  }
 ],
 "metadata": {
  "kernelspec": {
   "display_name": "my_env",
   "language": "python",
   "name": "python3"
  },
  "language_info": {
   "codemirror_mode": {
    "name": "ipython",
    "version": 3
   },
   "file_extension": ".py",
   "mimetype": "text/x-python",
   "name": "python",
   "nbconvert_exporter": "python",
   "pygments_lexer": "ipython3",
   "version": "3.11.5"
  },
  "orig_nbformat": 4
 },
 "nbformat": 4,
 "nbformat_minor": 2
}
